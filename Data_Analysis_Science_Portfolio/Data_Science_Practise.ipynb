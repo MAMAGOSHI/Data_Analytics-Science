{
 "cells": [
  {
   "cell_type": "code",
   "execution_count": 73,
   "id": "ccd27e0d-3974-40e0-bf63-c2fc457f99f4",
   "metadata": {},
   "outputs": [],
   "source": [
    "import pandas as pd\n",
    "import numpy as np\n",
    "import matplotlib.pyplot as plt\n",
    "import seaborn as sns \n",
    "from sklearn.model_selection import train_test_split\n",
    "from sklearn.linear_model import LinearRegression"
   ]
  },
  {
   "cell_type": "code",
   "execution_count": 74,
   "id": "f7973346-232c-45e8-ae76-9300e0a9a17c",
   "metadata": {
    "tags": []
   },
   "outputs": [
    {
     "data": {
      "text/html": [
       "<div>\n",
       "<style scoped>\n",
       "    .dataframe tbody tr th:only-of-type {\n",
       "        vertical-align: middle;\n",
       "    }\n",
       "\n",
       "    .dataframe tbody tr th {\n",
       "        vertical-align: top;\n",
       "    }\n",
       "\n",
       "    .dataframe thead th {\n",
       "        text-align: right;\n",
       "    }\n",
       "</style>\n",
       "<table border=\"1\" class=\"dataframe\">\n",
       "  <thead>\n",
       "    <tr style=\"text-align: right;\">\n",
       "      <th></th>\n",
       "      <th>carat</th>\n",
       "      <th>cut</th>\n",
       "      <th>color</th>\n",
       "      <th>clarity</th>\n",
       "      <th>depth</th>\n",
       "      <th>table</th>\n",
       "      <th>price</th>\n",
       "    </tr>\n",
       "  </thead>\n",
       "  <tbody>\n",
       "    <tr>\n",
       "      <th>0</th>\n",
       "      <td>0.23</td>\n",
       "      <td>Ideal</td>\n",
       "      <td>E</td>\n",
       "      <td>SI2</td>\n",
       "      <td>61.5</td>\n",
       "      <td>55.0</td>\n",
       "      <td>326</td>\n",
       "    </tr>\n",
       "    <tr>\n",
       "      <th>1</th>\n",
       "      <td>0.21</td>\n",
       "      <td>Premium</td>\n",
       "      <td>E</td>\n",
       "      <td>SI1</td>\n",
       "      <td>59.8</td>\n",
       "      <td>61.0</td>\n",
       "      <td>326</td>\n",
       "    </tr>\n",
       "    <tr>\n",
       "      <th>2</th>\n",
       "      <td>0.23</td>\n",
       "      <td>Good</td>\n",
       "      <td>E</td>\n",
       "      <td>VS1</td>\n",
       "      <td>56.9</td>\n",
       "      <td>65.0</td>\n",
       "      <td>327</td>\n",
       "    </tr>\n",
       "    <tr>\n",
       "      <th>3</th>\n",
       "      <td>0.29</td>\n",
       "      <td>Premium</td>\n",
       "      <td>I</td>\n",
       "      <td>VS2</td>\n",
       "      <td>62.4</td>\n",
       "      <td>58.0</td>\n",
       "      <td>334</td>\n",
       "    </tr>\n",
       "    <tr>\n",
       "      <th>4</th>\n",
       "      <td>0.31</td>\n",
       "      <td>Good</td>\n",
       "      <td>J</td>\n",
       "      <td>SI2</td>\n",
       "      <td>63.3</td>\n",
       "      <td>58.0</td>\n",
       "      <td>335</td>\n",
       "    </tr>\n",
       "    <tr>\n",
       "      <th>...</th>\n",
       "      <td>...</td>\n",
       "      <td>...</td>\n",
       "      <td>...</td>\n",
       "      <td>...</td>\n",
       "      <td>...</td>\n",
       "      <td>...</td>\n",
       "      <td>...</td>\n",
       "    </tr>\n",
       "    <tr>\n",
       "      <th>53935</th>\n",
       "      <td>0.72</td>\n",
       "      <td>Ideal</td>\n",
       "      <td>D</td>\n",
       "      <td>SI1</td>\n",
       "      <td>60.8</td>\n",
       "      <td>57.0</td>\n",
       "      <td>2757</td>\n",
       "    </tr>\n",
       "    <tr>\n",
       "      <th>53936</th>\n",
       "      <td>0.72</td>\n",
       "      <td>Good</td>\n",
       "      <td>D</td>\n",
       "      <td>SI1</td>\n",
       "      <td>63.1</td>\n",
       "      <td>55.0</td>\n",
       "      <td>2757</td>\n",
       "    </tr>\n",
       "    <tr>\n",
       "      <th>53937</th>\n",
       "      <td>0.70</td>\n",
       "      <td>Very Good</td>\n",
       "      <td>D</td>\n",
       "      <td>SI1</td>\n",
       "      <td>62.8</td>\n",
       "      <td>60.0</td>\n",
       "      <td>2757</td>\n",
       "    </tr>\n",
       "    <tr>\n",
       "      <th>53938</th>\n",
       "      <td>0.86</td>\n",
       "      <td>Premium</td>\n",
       "      <td>H</td>\n",
       "      <td>SI2</td>\n",
       "      <td>61.0</td>\n",
       "      <td>58.0</td>\n",
       "      <td>2757</td>\n",
       "    </tr>\n",
       "    <tr>\n",
       "      <th>53939</th>\n",
       "      <td>0.75</td>\n",
       "      <td>Ideal</td>\n",
       "      <td>D</td>\n",
       "      <td>SI2</td>\n",
       "      <td>62.2</td>\n",
       "      <td>55.0</td>\n",
       "      <td>2757</td>\n",
       "    </tr>\n",
       "  </tbody>\n",
       "</table>\n",
       "<p>53940 rows × 7 columns</p>\n",
       "</div>"
      ],
      "text/plain": [
       "       carat        cut color clarity  depth  table  price\n",
       "0       0.23      Ideal     E     SI2   61.5   55.0    326\n",
       "1       0.21    Premium     E     SI1   59.8   61.0    326\n",
       "2       0.23       Good     E     VS1   56.9   65.0    327\n",
       "3       0.29    Premium     I     VS2   62.4   58.0    334\n",
       "4       0.31       Good     J     SI2   63.3   58.0    335\n",
       "...      ...        ...   ...     ...    ...    ...    ...\n",
       "53935   0.72      Ideal     D     SI1   60.8   57.0   2757\n",
       "53936   0.72       Good     D     SI1   63.1   55.0   2757\n",
       "53937   0.70  Very Good     D     SI1   62.8   60.0   2757\n",
       "53938   0.86    Premium     H     SI2   61.0   58.0   2757\n",
       "53939   0.75      Ideal     D     SI2   62.2   55.0   2757\n",
       "\n",
       "[53940 rows x 7 columns]"
      ]
     },
     "execution_count": 74,
     "metadata": {},
     "output_type": "execute_result"
    }
   ],
   "source": [
    "data =pd.read_pickle(r\"C:\\Users\\lebom\\Downloads\\PRT2030_Nov_Exam_2024\\PRT2030_Nov_Exam_2024\\data.pkl\")\n",
    "data"
   ]
  },
  {
   "cell_type": "code",
   "execution_count": 75,
   "id": "9fac3aa7-fb85-4c28-8844-8dc56c10c787",
   "metadata": {
    "tags": []
   },
   "outputs": [
    {
     "name": "stderr",
     "output_type": "stream",
     "text": [
      "C:\\Users\\lebom\\anaconda3\\Lib\\site-packages\\seaborn\\axisgrid.py:118: UserWarning: The figure layout has changed to tight\n",
      "  self._figure.tight_layout(*args, **kwargs)\n"
     ]
    },
    {
     "data": {
      "text/plain": [
       "<seaborn.axisgrid.FacetGrid at 0x219abdb9810>"
      ]
     },
     "execution_count": 75,
     "metadata": {},
     "output_type": "execute_result"
    },
    {
     "data": {
      "image/png": "[encoded data removed]",
      "text/plain": [
       "<Figure size 500x500 with 1 Axes>"
      ]
     },
     "metadata": {},
     "output_type": "display_data"
    }
   ],
   "source": [
    "sns.relplot(data=data, x='carat', y='price')"
   ]
  },
  {
   "cell_type": "code",
   "execution_count": 76,
   "id": "25ae0855-6892-4a38-ba7a-611423085ab8",
   "metadata": {
    "tags": []
   },
   "outputs": [
    {
     "name": "stdout",
     "output_type": "stream",
     "text": [
      "<class 'pandas.core.frame.DataFrame'>\n",
      "RangeIndex: 53940 entries, 0 to 53939\n",
      "Data columns (total 7 columns):\n",
      " #   Column   Non-Null Count  Dtype   \n",
      "---  ------   --------------  -----   \n",
      " 0   carat    53940 non-null  float64 \n",
      " 1   cut      53940 non-null  category\n",
      " 2   color    53940 non-null  category\n",
      " 3   clarity  53940 non-null  category\n",
      " 4   depth    53940 non-null  float64 \n",
      " 5   table    53940 non-null  float64 \n",
      " 6   price    53940 non-null  int64   \n",
      "dtypes: category(3), float64(3), int64(1)\n",
      "memory usage: 1.8 MB\n"
     ]
    }
   ],
   "source": [
    "data.info()"
   ]
  },
  {
   "cell_type": "code",
   "execution_count": 77,
   "id": "85760d78-76db-42b8-a69b-e2053c00b92a",
   "metadata": {
    "tags": []
   },
   "outputs": [
    {
     "data": {
      "text/html": [
       "<div>\n",
       "<style scoped>\n",
       "    .dataframe tbody tr th:only-of-type {\n",
       "        vertical-align: middle;\n",
       "    }\n",
       "\n",
       "    .dataframe tbody tr th {\n",
       "        vertical-align: top;\n",
       "    }\n",
       "\n",
       "    .dataframe thead th {\n",
       "        text-align: right;\n",
       "    }\n",
       "</style>\n",
       "<table border=\"1\" class=\"dataframe\">\n",
       "  <thead>\n",
       "    <tr style=\"text-align: right;\">\n",
       "      <th></th>\n",
       "      <th>carat</th>\n",
       "      <th>depth</th>\n",
       "      <th>table</th>\n",
       "      <th>price</th>\n",
       "    </tr>\n",
       "  </thead>\n",
       "  <tbody>\n",
       "    <tr>\n",
       "      <th>0</th>\n",
       "      <td>0.23</td>\n",
       "      <td>61.5</td>\n",
       "      <td>55.0</td>\n",
       "      <td>326</td>\n",
       "    </tr>\n",
       "    <tr>\n",
       "      <th>1</th>\n",
       "      <td>0.21</td>\n",
       "      <td>59.8</td>\n",
       "      <td>61.0</td>\n",
       "      <td>326</td>\n",
       "    </tr>\n",
       "    <tr>\n",
       "      <th>2</th>\n",
       "      <td>0.23</td>\n",
       "      <td>56.9</td>\n",
       "      <td>65.0</td>\n",
       "      <td>327</td>\n",
       "    </tr>\n",
       "    <tr>\n",
       "      <th>3</th>\n",
       "      <td>0.29</td>\n",
       "      <td>62.4</td>\n",
       "      <td>58.0</td>\n",
       "      <td>334</td>\n",
       "    </tr>\n",
       "    <tr>\n",
       "      <th>4</th>\n",
       "      <td>0.31</td>\n",
       "      <td>63.3</td>\n",
       "      <td>58.0</td>\n",
       "      <td>335</td>\n",
       "    </tr>\n",
       "    <tr>\n",
       "      <th>...</th>\n",
       "      <td>...</td>\n",
       "      <td>...</td>\n",
       "      <td>...</td>\n",
       "      <td>...</td>\n",
       "    </tr>\n",
       "    <tr>\n",
       "      <th>53935</th>\n",
       "      <td>0.72</td>\n",
       "      <td>60.8</td>\n",
       "      <td>57.0</td>\n",
       "      <td>2757</td>\n",
       "    </tr>\n",
       "    <tr>\n",
       "      <th>53936</th>\n",
       "      <td>0.72</td>\n",
       "      <td>63.1</td>\n",
       "      <td>55.0</td>\n",
       "      <td>2757</td>\n",
       "    </tr>\n",
       "    <tr>\n",
       "      <th>53937</th>\n",
       "      <td>0.70</td>\n",
       "      <td>62.8</td>\n",
       "      <td>60.0</td>\n",
       "      <td>2757</td>\n",
       "    </tr>\n",
       "    <tr>\n",
       "      <th>53938</th>\n",
       "      <td>0.86</td>\n",
       "      <td>61.0</td>\n",
       "      <td>58.0</td>\n",
       "      <td>2757</td>\n",
       "    </tr>\n",
       "    <tr>\n",
       "      <th>53939</th>\n",
       "      <td>0.75</td>\n",
       "      <td>62.2</td>\n",
       "      <td>55.0</td>\n",
       "      <td>2757</td>\n",
       "    </tr>\n",
       "  </tbody>\n",
       "</table>\n",
       "<p>53940 rows × 4 columns</p>\n",
       "</div>"
      ],
      "text/plain": [
       "       carat  depth  table  price\n",
       "0       0.23   61.5   55.0    326\n",
       "1       0.21   59.8   61.0    326\n",
       "2       0.23   56.9   65.0    327\n",
       "3       0.29   62.4   58.0    334\n",
       "4       0.31   63.3   58.0    335\n",
       "...      ...    ...    ...    ...\n",
       "53935   0.72   60.8   57.0   2757\n",
       "53936   0.72   63.1   55.0   2757\n",
       "53937   0.70   62.8   60.0   2757\n",
       "53938   0.86   61.0   58.0   2757\n",
       "53939   0.75   62.2   55.0   2757\n",
       "\n",
       "[53940 rows x 4 columns]"
      ]
     },
     "execution_count": 77,
     "metadata": {},
     "output_type": "execute_result"
    }
   ],
   "source": [
    "data= data.drop(columns =['cut','color','clarity'])\n",
    "data"
   ]
  },
  {
   "cell_type": "code",
   "execution_count": 78,
   "id": "232031a6-d253-418c-b2dc-7e0d7c64da9f",
   "metadata": {
    "tags": []
   },
   "outputs": [
    {
     "data": {
      "text/html": [
       "<div>\n",
       "<style scoped>\n",
       "    .dataframe tbody tr th:only-of-type {\n",
       "        vertical-align: middle;\n",
       "    }\n",
       "\n",
       "    .dataframe tbody tr th {\n",
       "        vertical-align: top;\n",
       "    }\n",
       "\n",
       "    .dataframe thead th {\n",
       "        text-align: right;\n",
       "    }\n",
       "</style>\n",
       "<table border=\"1\" class=\"dataframe\">\n",
       "  <thead>\n",
       "    <tr style=\"text-align: right;\">\n",
       "      <th></th>\n",
       "      <th>price</th>\n",
       "    </tr>\n",
       "  </thead>\n",
       "  <tbody>\n",
       "    <tr>\n",
       "      <th>price</th>\n",
       "      <td>1.000000</td>\n",
       "    </tr>\n",
       "    <tr>\n",
       "      <th>carat</th>\n",
       "      <td>0.921591</td>\n",
       "    </tr>\n",
       "    <tr>\n",
       "      <th>table</th>\n",
       "      <td>0.127134</td>\n",
       "    </tr>\n",
       "    <tr>\n",
       "      <th>depth</th>\n",
       "      <td>-0.010647</td>\n",
       "    </tr>\n",
       "  </tbody>\n",
       "</table>\n",
       "</div>"
      ],
      "text/plain": [
       "          price\n",
       "price  1.000000\n",
       "carat  0.921591\n",
       "table  0.127134\n",
       "depth -0.010647"
      ]
     },
     "execution_count": 78,
     "metadata": {},
     "output_type": "execute_result"
    }
   ],
   "source": [
    "data.corr()[['price']].sort_values('price',ascending=False)"
   ]
  },
  {
   "cell_type": "code",
   "execution_count": 79,
   "id": "ad7d6911-5b44-4bd0-ac79-62cc73b9f873",
   "metadata": {
    "tags": []
   },
   "outputs": [
    {
     "data": {
      "text/plain": [
       "<Axes: >"
      ]
     },
     "execution_count": 79,
     "metadata": {},
     "output_type": "execute_result"
    },
    {
     "data": {
      "image/png": "[encoded data removed]",
      "text/plain": [
       "<Figure size 640x480 with 1 Axes>"
      ]
     },
     "metadata": {},
     "output_type": "display_data"
    }
   ],
   "source": [
    "sns.heatmap(data=data.corr()[['price']].sort_values(by='price',ascending=False),annot=True,cmap='viridis',cbar=False,fmt='.3f')"
   ]
  },
  {
   "cell_type": "code",
   "execution_count": 80,
   "id": "f55bb76c-6bf2-472d-9152-79111cc279f4",
   "metadata": {
    "tags": []
   },
   "outputs": [],
   "source": [
    "x_train,x_test,y_train,y_test=train_test_split(\n",
    "    data[['carat','table','depth']],data[['price']],\n",
    "    test_size=0.30,random_state=20)"
   ]
  },
  {
   "cell_type": "code",
   "execution_count": 81,
   "id": "bbc95df6-36ec-4a02-9b25-664c4b865aaa",
   "metadata": {
    "tags": []
   },
   "outputs": [
    {
     "data": {
      "text/plain": [
       "0.8533999266287104"
      ]
     },
     "execution_count": 81,
     "metadata": {},
     "output_type": "execute_result"
    }
   ],
   "source": [
    "model=LinearRegression()\n",
    "model.fit(x_train,y_train)\n",
    "model.score(x_test,y_test)\n",
    "model.score(x_train,y_train)"
   ]
  },
  {
   "cell_type": "code",
   "execution_count": 82,
   "id": "335ff2f4-0705-4d67-986d-736ceedf959a",
   "metadata": {
    "tags": []
   },
   "outputs": [
    {
     "data": {
      "text/plain": [
       "0.8543799666101143"
      ]
     },
     "execution_count": 82,
     "metadata": {},
     "output_type": "execute_result"
    }
   ],
   "source": [
    "model=LinearRegression()\n",
    "model.fit(x_test,y_test)\n",
    "model.score(x_train,y_train)\n",
    "model.score(x_test,y_test)"
   ]
  },
  {
   "cell_type": "code",
   "execution_count": 83,
   "id": "4ed9d534-b2a3-40ee-b67d-e1651a297a1e",
   "metadata": {
    "tags": []
   },
   "outputs": [
    {
     "data": {
      "text/html": [
       "<div>\n",
       "<style scoped>\n",
       "    .dataframe tbody tr th:only-of-type {\n",
       "        vertical-align: middle;\n",
       "    }\n",
       "\n",
       "    .dataframe tbody tr th {\n",
       "        vertical-align: top;\n",
       "    }\n",
       "\n",
       "    .dataframe thead th {\n",
       "        text-align: right;\n",
       "    }\n",
       "</style>\n",
       "<table border=\"1\" class=\"dataframe\">\n",
       "  <thead>\n",
       "    <tr style=\"text-align: right;\">\n",
       "      <th></th>\n",
       "      <th>carat</th>\n",
       "      <th>table</th>\n",
       "      <th>depth</th>\n",
       "      <th>price</th>\n",
       "      <th>predicted_Price</th>\n",
       "    </tr>\n",
       "  </thead>\n",
       "  <tbody>\n",
       "    <tr>\n",
       "      <th>0</th>\n",
       "      <td>1.52</td>\n",
       "      <td>66.0</td>\n",
       "      <td>62.1</td>\n",
       "      <td>8674</td>\n",
       "      <td>8730.664269</td>\n",
       "    </tr>\n",
       "    <tr>\n",
       "      <th>1</th>\n",
       "      <td>0.54</td>\n",
       "      <td>58.0</td>\n",
       "      <td>62.0</td>\n",
       "      <td>1637</td>\n",
       "      <td>1803.864340</td>\n",
       "    </tr>\n",
       "    <tr>\n",
       "      <th>2</th>\n",
       "      <td>0.70</td>\n",
       "      <td>60.0</td>\n",
       "      <td>62.0</td>\n",
       "      <td>2657</td>\n",
       "      <td>2871.777435</td>\n",
       "    </tr>\n",
       "    <tr>\n",
       "      <th>3</th>\n",
       "      <td>0.59</td>\n",
       "      <td>58.0</td>\n",
       "      <td>62.2</td>\n",
       "      <td>1838</td>\n",
       "      <td>2166.955196</td>\n",
       "    </tr>\n",
       "    <tr>\n",
       "      <th>4</th>\n",
       "      <td>0.86</td>\n",
       "      <td>58.0</td>\n",
       "      <td>61.8</td>\n",
       "      <td>2980</td>\n",
       "      <td>4346.274389</td>\n",
       "    </tr>\n",
       "  </tbody>\n",
       "</table>\n",
       "</div>"
      ],
      "text/plain": [
       "   carat  table  depth  price  predicted_Price\n",
       "0   1.52   66.0   62.1   8674      8730.664269\n",
       "1   0.54   58.0   62.0   1637      1803.864340\n",
       "2   0.70   60.0   62.0   2657      2871.777435\n",
       "3   0.59   58.0   62.2   1838      2166.955196\n",
       "4   0.86   58.0   61.8   2980      4346.274389"
      ]
     },
     "execution_count": 83,
     "metadata": {},
     "output_type": "execute_result"
    }
   ],
   "source": [
    "y_predicted=model.predict(x_test)\n",
    "predicted=pd.DataFrame(y_predicted,columns=['predicted_Price'])\n",
    "final=predicted.join([x_test.reset_index(drop=True),\n",
    "                      y_test.reset_index(drop=True)])\n",
    "final[['carat', 'table', 'depth','price','predicted_Price']].head()"
   ]
  },
  {
   "cell_type": "code",
   "execution_count": 84,
   "id": "a162ef51-e324-4cf9-8453-9c3424ee57b8",
   "metadata": {
    "tags": []
   },
   "outputs": [
    {
     "data": {
      "text/html": [
       "<div>\n",
       "<style scoped>\n",
       "    .dataframe tbody tr th:only-of-type {\n",
       "        vertical-align: middle;\n",
       "    }\n",
       "\n",
       "    .dataframe tbody tr th {\n",
       "        vertical-align: top;\n",
       "    }\n",
       "\n",
       "    .dataframe thead th {\n",
       "        text-align: right;\n",
       "    }\n",
       "</style>\n",
       "<table border=\"1\" class=\"dataframe\">\n",
       "  <thead>\n",
       "    <tr style=\"text-align: right;\">\n",
       "      <th></th>\n",
       "      <th>predicted_Price</th>\n",
       "      <th>carat</th>\n",
       "      <th>table</th>\n",
       "      <th>depth</th>\n",
       "      <th>price</th>\n",
       "      <th>residual</th>\n",
       "    </tr>\n",
       "  </thead>\n",
       "  <tbody>\n",
       "    <tr>\n",
       "      <th>0</th>\n",
       "      <td>8730.664269</td>\n",
       "      <td>1.52</td>\n",
       "      <td>66.0</td>\n",
       "      <td>62.1</td>\n",
       "      <td>8674</td>\n",
       "      <td>-56.664269</td>\n",
       "    </tr>\n",
       "    <tr>\n",
       "      <th>1</th>\n",
       "      <td>1803.864340</td>\n",
       "      <td>0.54</td>\n",
       "      <td>58.0</td>\n",
       "      <td>62.0</td>\n",
       "      <td>1637</td>\n",
       "      <td>-166.864340</td>\n",
       "    </tr>\n",
       "    <tr>\n",
       "      <th>2</th>\n",
       "      <td>2871.777435</td>\n",
       "      <td>0.70</td>\n",
       "      <td>60.0</td>\n",
       "      <td>62.0</td>\n",
       "      <td>2657</td>\n",
       "      <td>-214.777435</td>\n",
       "    </tr>\n",
       "    <tr>\n",
       "      <th>3</th>\n",
       "      <td>2166.955196</td>\n",
       "      <td>0.59</td>\n",
       "      <td>58.0</td>\n",
       "      <td>62.2</td>\n",
       "      <td>1838</td>\n",
       "      <td>-328.955196</td>\n",
       "    </tr>\n",
       "    <tr>\n",
       "      <th>4</th>\n",
       "      <td>4346.274389</td>\n",
       "      <td>0.86</td>\n",
       "      <td>58.0</td>\n",
       "      <td>61.8</td>\n",
       "      <td>2980</td>\n",
       "      <td>-1366.274389</td>\n",
       "    </tr>\n",
       "  </tbody>\n",
       "</table>\n",
       "</div>"
      ],
      "text/plain": [
       "   predicted_Price  carat  table  depth  price     residual\n",
       "0      8730.664269   1.52   66.0   62.1   8674   -56.664269\n",
       "1      1803.864340   0.54   58.0   62.0   1637  -166.864340\n",
       "2      2871.777435   0.70   60.0   62.0   2657  -214.777435\n",
       "3      2166.955196   0.59   58.0   62.2   1838  -328.955196\n",
       "4      4346.274389   0.86   58.0   61.8   2980 -1366.274389"
      ]
     },
     "execution_count": 84,
     "metadata": {},
     "output_type": "execute_result"
    }
   ],
   "source": [
    "final['residual']=final.price-final.predicted_Price\n",
    "final.head()"
   ]
  },
  {
   "cell_type": "code",
   "execution_count": 85,
   "id": "6442ca69-5917-4799-bacd-aeb75d133dd7",
   "metadata": {
    "tags": []
   },
   "outputs": [
    {
     "name": "stderr",
     "output_type": "stream",
     "text": [
      "C:\\Users\\lebom\\anaconda3\\Lib\\site-packages\\seaborn\\_oldcore.py:1119: FutureWarning: use_inf_as_na option is deprecated and will be removed in a future version. Convert inf values to NaN before operating instead.\n",
      "  with pd.option_context('mode.use_inf_as_na', True):\n"
     ]
    },
    {
     "data": {
      "text/plain": [
       "<Axes: xlabel='residual', ylabel='Density'>"
      ]
     },
     "execution_count": 85,
     "metadata": {},
     "output_type": "execute_result"
    },
    {
     "data": {
      "image/png": "[encoded data removed]",
      "text/plain": [
       "<Figure size 640x480 with 1 Axes>"
      ]
     },
     "metadata": {},
     "output_type": "display_data"
    }
   ],
   "source": [
    "sns.kdeplot(data=final,x='residual')"
   ]
  },
  {
   "cell_type": "code",
   "execution_count": 86,
   "id": "110fd50e-0668-475b-b4bb-48668d9a06f8",
   "metadata": {
    "tags": []
   },
   "outputs": [
    {
     "data": {
      "text/html": [
       "<div>\n",
       "<style scoped>\n",
       "    .dataframe tbody tr th:only-of-type {\n",
       "        vertical-align: middle;\n",
       "    }\n",
       "\n",
       "    .dataframe tbody tr th {\n",
       "        vertical-align: top;\n",
       "    }\n",
       "\n",
       "    .dataframe thead th {\n",
       "        text-align: right;\n",
       "    }\n",
       "</style>\n",
       "<table border=\"1\" class=\"dataframe\">\n",
       "  <thead>\n",
       "    <tr style=\"text-align: right;\">\n",
       "      <th></th>\n",
       "      <th>carat</th>\n",
       "      <th>cut</th>\n",
       "      <th>color</th>\n",
       "      <th>clarity</th>\n",
       "      <th>depth</th>\n",
       "      <th>table</th>\n",
       "      <th>price</th>\n",
       "    </tr>\n",
       "  </thead>\n",
       "  <tbody>\n",
       "    <tr>\n",
       "      <th>0</th>\n",
       "      <td>0.23</td>\n",
       "      <td>Ideal</td>\n",
       "      <td>E</td>\n",
       "      <td>SI2</td>\n",
       "      <td>61.5</td>\n",
       "      <td>55.0</td>\n",
       "      <td>326</td>\n",
       "    </tr>\n",
       "    <tr>\n",
       "      <th>1</th>\n",
       "      <td>0.21</td>\n",
       "      <td>Premium</td>\n",
       "      <td>E</td>\n",
       "      <td>SI1</td>\n",
       "      <td>59.8</td>\n",
       "      <td>61.0</td>\n",
       "      <td>326</td>\n",
       "    </tr>\n",
       "    <tr>\n",
       "      <th>2</th>\n",
       "      <td>0.23</td>\n",
       "      <td>Good</td>\n",
       "      <td>E</td>\n",
       "      <td>VS1</td>\n",
       "      <td>56.9</td>\n",
       "      <td>65.0</td>\n",
       "      <td>327</td>\n",
       "    </tr>\n",
       "    <tr>\n",
       "      <th>3</th>\n",
       "      <td>0.29</td>\n",
       "      <td>Premium</td>\n",
       "      <td>I</td>\n",
       "      <td>VS2</td>\n",
       "      <td>62.4</td>\n",
       "      <td>58.0</td>\n",
       "      <td>334</td>\n",
       "    </tr>\n",
       "    <tr>\n",
       "      <th>4</th>\n",
       "      <td>0.31</td>\n",
       "      <td>Good</td>\n",
       "      <td>J</td>\n",
       "      <td>SI2</td>\n",
       "      <td>63.3</td>\n",
       "      <td>58.0</td>\n",
       "      <td>335</td>\n",
       "    </tr>\n",
       "    <tr>\n",
       "      <th>...</th>\n",
       "      <td>...</td>\n",
       "      <td>...</td>\n",
       "      <td>...</td>\n",
       "      <td>...</td>\n",
       "      <td>...</td>\n",
       "      <td>...</td>\n",
       "      <td>...</td>\n",
       "    </tr>\n",
       "    <tr>\n",
       "      <th>53935</th>\n",
       "      <td>0.72</td>\n",
       "      <td>Ideal</td>\n",
       "      <td>D</td>\n",
       "      <td>SI1</td>\n",
       "      <td>60.8</td>\n",
       "      <td>57.0</td>\n",
       "      <td>2757</td>\n",
       "    </tr>\n",
       "    <tr>\n",
       "      <th>53936</th>\n",
       "      <td>0.72</td>\n",
       "      <td>Good</td>\n",
       "      <td>D</td>\n",
       "      <td>SI1</td>\n",
       "      <td>63.1</td>\n",
       "      <td>55.0</td>\n",
       "      <td>2757</td>\n",
       "    </tr>\n",
       "    <tr>\n",
       "      <th>53937</th>\n",
       "      <td>0.70</td>\n",
       "      <td>Very Good</td>\n",
       "      <td>D</td>\n",
       "      <td>SI1</td>\n",
       "      <td>62.8</td>\n",
       "      <td>60.0</td>\n",
       "      <td>2757</td>\n",
       "    </tr>\n",
       "    <tr>\n",
       "      <th>53938</th>\n",
       "      <td>0.86</td>\n",
       "      <td>Premium</td>\n",
       "      <td>H</td>\n",
       "      <td>SI2</td>\n",
       "      <td>61.0</td>\n",
       "      <td>58.0</td>\n",
       "      <td>2757</td>\n",
       "    </tr>\n",
       "    <tr>\n",
       "      <th>53939</th>\n",
       "      <td>0.75</td>\n",
       "      <td>Ideal</td>\n",
       "      <td>D</td>\n",
       "      <td>SI2</td>\n",
       "      <td>62.2</td>\n",
       "      <td>55.0</td>\n",
       "      <td>2757</td>\n",
       "    </tr>\n",
       "  </tbody>\n",
       "</table>\n",
       "<p>53940 rows × 7 columns</p>\n",
       "</div>"
      ],
      "text/plain": [
       "       carat        cut color clarity  depth  table  price\n",
       "0       0.23      Ideal     E     SI2   61.5   55.0    326\n",
       "1       0.21    Premium     E     SI1   59.8   61.0    326\n",
       "2       0.23       Good     E     VS1   56.9   65.0    327\n",
       "3       0.29    Premium     I     VS2   62.4   58.0    334\n",
       "4       0.31       Good     J     SI2   63.3   58.0    335\n",
       "...      ...        ...   ...     ...    ...    ...    ...\n",
       "53935   0.72      Ideal     D     SI1   60.8   57.0   2757\n",
       "53936   0.72       Good     D     SI1   63.1   55.0   2757\n",
       "53937   0.70  Very Good     D     SI1   62.8   60.0   2757\n",
       "53938   0.86    Premium     H     SI2   61.0   58.0   2757\n",
       "53939   0.75      Ideal     D     SI2   62.2   55.0   2757\n",
       "\n",
       "[53940 rows x 7 columns]"
      ]
     },
     "execution_count": 86,
     "metadata": {},
     "output_type": "execute_result"
    }
   ],
   "source": [
    "diamonds =pd.read_pickle(r\"C:\\Users\\lebom\\Downloads\\PRT2030_Nov_Exam_2024\\PRT2030_Nov_Exam_2024\\data.pkl\")\n",
    "diamonds"
   ]
  },
  {
   "cell_type": "code",
   "execution_count": 87,
   "id": "49dc151d-932f-401c-a5d9-6bb37949454b",
   "metadata": {
    "tags": []
   },
   "outputs": [
    {
     "name": "stdout",
     "output_type": "stream",
     "text": [
      "<class 'pandas.core.frame.DataFrame'>\n",
      "RangeIndex: 53940 entries, 0 to 53939\n",
      "Data columns (total 7 columns):\n",
      " #   Column   Non-Null Count  Dtype   \n",
      "---  ------   --------------  -----   \n",
      " 0   carat    53940 non-null  float64 \n",
      " 1   cut      53940 non-null  category\n",
      " 2   color    53940 non-null  category\n",
      " 3   clarity  53940 non-null  category\n",
      " 4   depth    53940 non-null  float64 \n",
      " 5   table    53940 non-null  float64 \n",
      " 6   price    53940 non-null  int64   \n",
      "dtypes: category(3), float64(3), int64(1)\n",
      "memory usage: 1.8 MB\n"
     ]
    }
   ],
   "source": [
    "diamonds.info()"
   ]
  },
  {
   "cell_type": "code",
   "execution_count": 88,
   "id": "cdd81dac-2fe5-41b7-9757-9477564462e7",
   "metadata": {
    "tags": []
   },
   "outputs": [],
   "source": [
    "from sklearn.preprocessing import StandardScaler"
   ]
  },
  {
   "cell_type": "code",
   "execution_count": 89,
   "id": "e9b7b03e-e5d3-4da4-aa7b-70c14383b3e8",
   "metadata": {
    "tags": []
   },
   "outputs": [
    {
     "name": "stdout",
     "output_type": "stream",
     "text": [
      "<class 'pandas.core.frame.DataFrame'>\n",
      "RangeIndex: 53940 entries, 0 to 53939\n",
      "Data columns (total 20 columns):\n",
      " #   Column         Non-Null Count  Dtype\n",
      "---  ------         --------------  -----\n",
      " 0   cut_Ideal      53940 non-null  bool \n",
      " 1   cut_Premium    53940 non-null  bool \n",
      " 2   cut_Very Good  53940 non-null  bool \n",
      " 3   cut_Good       53940 non-null  bool \n",
      " 4   cut_Fair       53940 non-null  bool \n",
      " 5   color_D        53940 non-null  bool \n",
      " 6   color_E        53940 non-null  bool \n",
      " 7   color_F        53940 non-null  bool \n",
      " 8   color_G        53940 non-null  bool \n",
      " 9   color_H        53940 non-null  bool \n",
      " 10  color_I        53940 non-null  bool \n",
      " 11  color_J        53940 non-null  bool \n",
      " 12  clarity_IF     53940 non-null  bool \n",
      " 13  clarity_VVS1   53940 non-null  bool \n",
      " 14  clarity_VVS2   53940 non-null  bool \n",
      " 15  clarity_VS1    53940 non-null  bool \n",
      " 16  clarity_VS2    53940 non-null  bool \n",
      " 17  clarity_SI1    53940 non-null  bool \n",
      " 18  clarity_SI2    53940 non-null  bool \n",
      " 19  clarity_I1     53940 non-null  bool \n",
      "dtypes: bool(20)\n",
      "memory usage: 1.0 MB\n"
     ]
    }
   ],
   "source": [
    "catColumns=['cut','color','clarity']\n",
    "dummies=pd.get_dummies(diamonds[catColumns])\n",
    "dummies.info()"
   ]
  },
  {
   "cell_type": "code",
   "execution_count": 90,
   "id": "7dfc457e-c211-4236-9297-e4b010635a07",
   "metadata": {
    "tags": []
   },
   "outputs": [
    {
     "name": "stdout",
     "output_type": "stream",
     "text": [
      "<class 'pandas.core.frame.DataFrame'>\n",
      "RangeIndex: 53940 entries, 0 to 53939\n",
      "Data columns (total 24 columns):\n",
      " #   Column         Non-Null Count  Dtype  \n",
      "---  ------         --------------  -----  \n",
      " 0   carat          53940 non-null  float64\n",
      " 1   depth          53940 non-null  float64\n",
      " 2   table          53940 non-null  float64\n",
      " 3   price          53940 non-null  int64  \n",
      " 4   cut_Ideal      53940 non-null  bool   \n",
      " 5   cut_Premium    53940 non-null  bool   \n",
      " 6   cut_Very Good  53940 non-null  bool   \n",
      " 7   cut_Good       53940 non-null  bool   \n",
      " 8   cut_Fair       53940 non-null  bool   \n",
      " 9   color_D        53940 non-null  bool   \n",
      " 10  color_E        53940 non-null  bool   \n",
      " 11  color_F        53940 non-null  bool   \n",
      " 12  color_G        53940 non-null  bool   \n",
      " 13  color_H        53940 non-null  bool   \n",
      " 14  color_I        53940 non-null  bool   \n",
      " 15  color_J        53940 non-null  bool   \n",
      " 16  clarity_IF     53940 non-null  bool   \n",
      " 17  clarity_VVS1   53940 non-null  bool   \n",
      " 18  clarity_VVS2   53940 non-null  bool   \n",
      " 19  clarity_VS1    53940 non-null  bool   \n",
      " 20  clarity_VS2    53940 non-null  bool   \n",
      " 21  clarity_SI1    53940 non-null  bool   \n",
      " 22  clarity_SI2    53940 non-null  bool   \n",
      " 23  clarity_I1     53940 non-null  bool   \n",
      "dtypes: bool(20), float64(3), int64(1)\n",
      "memory usage: 2.7 MB\n"
     ]
    }
   ],
   "source": [
    "diamondsDummies = diamonds.drop(columns=catColumns)\n",
    "diamondsDummies=diamondsDummies.join(dummies)\n",
    "diamondsDummies.info()"
   ]
  },
  {
   "cell_type": "code",
   "execution_count": 91,
   "id": "7a537d19-1daa-46eb-b557-4f2fca04f889",
   "metadata": {
    "tags": []
   },
   "outputs": [],
   "source": [
    "from sklearn.preprocessing import StandardScaler"
   ]
  },
  {
   "cell_type": "code",
   "execution_count": 92,
   "id": "5eeadcf8-c4ad-4d73-ab35-80d8a1f6c6c1",
   "metadata": {
    "tags": []
   },
   "outputs": [
    {
     "data": {
      "text/html": [
       "<div>\n",
       "<style scoped>\n",
       "    .dataframe tbody tr th:only-of-type {\n",
       "        vertical-align: middle;\n",
       "    }\n",
       "\n",
       "    .dataframe tbody tr th {\n",
       "        vertical-align: top;\n",
       "    }\n",
       "\n",
       "    .dataframe thead th {\n",
       "        text-align: right;\n",
       "    }\n",
       "</style>\n",
       "<table border=\"1\" class=\"dataframe\">\n",
       "  <thead>\n",
       "    <tr style=\"text-align: right;\">\n",
       "      <th></th>\n",
       "      <th>carat</th>\n",
       "      <th>depth</th>\n",
       "      <th>table</th>\n",
       "      <th>price</th>\n",
       "      <th>cut_Ideal</th>\n",
       "      <th>cut_Premium</th>\n",
       "      <th>cut_Very Good</th>\n",
       "      <th>cut_Good</th>\n",
       "      <th>cut_Fair</th>\n",
       "      <th>color_D</th>\n",
       "      <th>...</th>\n",
       "      <th>color_I</th>\n",
       "      <th>color_J</th>\n",
       "      <th>clarity_IF</th>\n",
       "      <th>clarity_VVS1</th>\n",
       "      <th>clarity_VVS2</th>\n",
       "      <th>clarity_VS1</th>\n",
       "      <th>clarity_VS2</th>\n",
       "      <th>clarity_SI1</th>\n",
       "      <th>clarity_SI2</th>\n",
       "      <th>clarity_I1</th>\n",
       "    </tr>\n",
       "  </thead>\n",
       "  <tbody>\n",
       "    <tr>\n",
       "      <th>0</th>\n",
       "      <td>-1.198168</td>\n",
       "      <td>-0.174092</td>\n",
       "      <td>-1.099672</td>\n",
       "      <td>326</td>\n",
       "      <td>True</td>\n",
       "      <td>False</td>\n",
       "      <td>False</td>\n",
       "      <td>False</td>\n",
       "      <td>False</td>\n",
       "      <td>False</td>\n",
       "      <td>...</td>\n",
       "      <td>False</td>\n",
       "      <td>False</td>\n",
       "      <td>False</td>\n",
       "      <td>False</td>\n",
       "      <td>False</td>\n",
       "      <td>False</td>\n",
       "      <td>False</td>\n",
       "      <td>False</td>\n",
       "      <td>True</td>\n",
       "      <td>False</td>\n",
       "    </tr>\n",
       "    <tr>\n",
       "      <th>1</th>\n",
       "      <td>-1.240361</td>\n",
       "      <td>-1.360738</td>\n",
       "      <td>1.585529</td>\n",
       "      <td>326</td>\n",
       "      <td>False</td>\n",
       "      <td>True</td>\n",
       "      <td>False</td>\n",
       "      <td>False</td>\n",
       "      <td>False</td>\n",
       "      <td>False</td>\n",
       "      <td>...</td>\n",
       "      <td>False</td>\n",
       "      <td>False</td>\n",
       "      <td>False</td>\n",
       "      <td>False</td>\n",
       "      <td>False</td>\n",
       "      <td>False</td>\n",
       "      <td>False</td>\n",
       "      <td>True</td>\n",
       "      <td>False</td>\n",
       "      <td>False</td>\n",
       "    </tr>\n",
       "    <tr>\n",
       "      <th>2</th>\n",
       "      <td>-1.198168</td>\n",
       "      <td>-3.385019</td>\n",
       "      <td>3.375663</td>\n",
       "      <td>327</td>\n",
       "      <td>False</td>\n",
       "      <td>False</td>\n",
       "      <td>False</td>\n",
       "      <td>True</td>\n",
       "      <td>False</td>\n",
       "      <td>False</td>\n",
       "      <td>...</td>\n",
       "      <td>False</td>\n",
       "      <td>False</td>\n",
       "      <td>False</td>\n",
       "      <td>False</td>\n",
       "      <td>False</td>\n",
       "      <td>True</td>\n",
       "      <td>False</td>\n",
       "      <td>False</td>\n",
       "      <td>False</td>\n",
       "      <td>False</td>\n",
       "    </tr>\n",
       "    <tr>\n",
       "      <th>3</th>\n",
       "      <td>-1.071587</td>\n",
       "      <td>0.454133</td>\n",
       "      <td>0.242928</td>\n",
       "      <td>334</td>\n",
       "      <td>False</td>\n",
       "      <td>True</td>\n",
       "      <td>False</td>\n",
       "      <td>False</td>\n",
       "      <td>False</td>\n",
       "      <td>False</td>\n",
       "      <td>...</td>\n",
       "      <td>True</td>\n",
       "      <td>False</td>\n",
       "      <td>False</td>\n",
       "      <td>False</td>\n",
       "      <td>False</td>\n",
       "      <td>False</td>\n",
       "      <td>True</td>\n",
       "      <td>False</td>\n",
       "      <td>False</td>\n",
       "      <td>False</td>\n",
       "    </tr>\n",
       "    <tr>\n",
       "      <th>4</th>\n",
       "      <td>-1.029394</td>\n",
       "      <td>1.082358</td>\n",
       "      <td>0.242928</td>\n",
       "      <td>335</td>\n",
       "      <td>False</td>\n",
       "      <td>False</td>\n",
       "      <td>False</td>\n",
       "      <td>True</td>\n",
       "      <td>False</td>\n",
       "      <td>False</td>\n",
       "      <td>...</td>\n",
       "      <td>False</td>\n",
       "      <td>True</td>\n",
       "      <td>False</td>\n",
       "      <td>False</td>\n",
       "      <td>False</td>\n",
       "      <td>False</td>\n",
       "      <td>False</td>\n",
       "      <td>False</td>\n",
       "      <td>True</td>\n",
       "      <td>False</td>\n",
       "    </tr>\n",
       "  </tbody>\n",
       "</table>\n",
       "<p>5 rows × 24 columns</p>\n",
       "</div>"
      ],
      "text/plain": [
       "      carat     depth     table  price  cut_Ideal  cut_Premium  cut_Very Good  \\\n",
       "0 -1.198168 -0.174092 -1.099672    326       True        False          False   \n",
       "1 -1.240361 -1.360738  1.585529    326      False         True          False   \n",
       "2 -1.198168 -3.385019  3.375663    327      False        False          False   \n",
       "3 -1.071587  0.454133  0.242928    334      False         True          False   \n",
       "4 -1.029394  1.082358  0.242928    335      False        False          False   \n",
       "\n",
       "   cut_Good  cut_Fair  color_D  ...  color_I  color_J  clarity_IF  \\\n",
       "0     False     False    False  ...    False    False       False   \n",
       "1     False     False    False  ...    False    False       False   \n",
       "2      True     False    False  ...    False    False       False   \n",
       "3     False     False    False  ...     True    False       False   \n",
       "4      True     False    False  ...    False     True       False   \n",
       "\n",
       "   clarity_VVS1  clarity_VVS2  clarity_VS1  clarity_VS2  clarity_SI1  \\\n",
       "0         False         False        False        False        False   \n",
       "1         False         False        False        False         True   \n",
       "2         False         False         True        False        False   \n",
       "3         False         False        False         True        False   \n",
       "4         False         False        False        False        False   \n",
       "\n",
       "   clarity_SI2  clarity_I1  \n",
       "0         True       False  \n",
       "1        False       False  \n",
       "2        False       False  \n",
       "3        False       False  \n",
       "4         True       False  \n",
       "\n",
       "[5 rows x 24 columns]"
      ]
     },
     "execution_count": 92,
     "metadata": {},
     "output_type": "execute_result"
    }
   ],
   "source": [
    "scaler = StandardScaler()\n",
    "numcols=['carat','depth','table']\n",
    "diamondsDummies[numCols]=scaler.fit_transform(diamondsDummies[numcols])\n",
    "diamondsDummies.head()"
   ]
  },
  {
   "cell_type": "code",
   "execution_count": 93,
   "id": "d2b91b76-8829-4c2b-a31a-caabbfaa8668",
   "metadata": {
    "tags": []
   },
   "outputs": [
    {
     "name": "stdout",
     "output_type": "stream",
     "text": [
      "<class 'pandas.core.frame.DataFrame'>\n",
      "RangeIndex: 53940 entries, 0 to 53939\n",
      "Data columns (total 24 columns):\n",
      " #   Column         Non-Null Count  Dtype  \n",
      "---  ------         --------------  -----  \n",
      " 0   carat          53940 non-null  float64\n",
      " 1   depth          53940 non-null  float64\n",
      " 2   table          53940 non-null  float64\n",
      " 3   price          53940 non-null  int64  \n",
      " 4   cut_Ideal      53940 non-null  bool   \n",
      " 5   cut_Premium    53940 non-null  bool   \n",
      " 6   cut_Very Good  53940 non-null  bool   \n",
      " 7   cut_Good       53940 non-null  bool   \n",
      " 8   cut_Fair       53940 non-null  bool   \n",
      " 9   color_D        53940 non-null  bool   \n",
      " 10  color_E        53940 non-null  bool   \n",
      " 11  color_F        53940 non-null  bool   \n",
      " 12  color_G        53940 non-null  bool   \n",
      " 13  color_H        53940 non-null  bool   \n",
      " 14  color_I        53940 non-null  bool   \n",
      " 15  color_J        53940 non-null  bool   \n",
      " 16  clarity_IF     53940 non-null  bool   \n",
      " 17  clarity_VVS1   53940 non-null  bool   \n",
      " 18  clarity_VVS2   53940 non-null  bool   \n",
      " 19  clarity_VS1    53940 non-null  bool   \n",
      " 20  clarity_VS2    53940 non-null  bool   \n",
      " 21  clarity_SI1    53940 non-null  bool   \n",
      " 22  clarity_SI2    53940 non-null  bool   \n",
      " 23  clarity_I1     53940 non-null  bool   \n",
      "dtypes: bool(20), float64(3), int64(1)\n",
      "memory usage: 2.7 MB\n"
     ]
    }
   ],
   "source": [
    "diamondsDummies=diamonds.drop(columns=catColumns)\n",
    "diamondsDummies=diamondsDummies.join(dummies)\n",
    "diamondsDummies.info()"
   ]
  },
  {
   "cell_type": "code",
   "execution_count": 94,
   "id": "5d5f8ecb-6161-420b-a1b1-e168c4f230a6",
   "metadata": {
    "tags": []
   },
   "outputs": [
    {
     "name": "stdout",
     "output_type": "stream",
     "text": [
      "<class 'pandas.core.frame.DataFrame'>\n",
      "RangeIndex: 53940 entries, 0 to 53939\n",
      "Data columns (total 20 columns):\n",
      " #   Column         Non-Null Count  Dtype\n",
      "---  ------         --------------  -----\n",
      " 0   cut_Ideal      53940 non-null  bool \n",
      " 1   cut_Premium    53940 non-null  bool \n",
      " 2   cut_Very Good  53940 non-null  bool \n",
      " 3   cut_Good       53940 non-null  bool \n",
      " 4   cut_Fair       53940 non-null  bool \n",
      " 5   color_D        53940 non-null  bool \n",
      " 6   color_E        53940 non-null  bool \n",
      " 7   color_F        53940 non-null  bool \n",
      " 8   color_G        53940 non-null  bool \n",
      " 9   color_H        53940 non-null  bool \n",
      " 10  color_I        53940 non-null  bool \n",
      " 11  color_J        53940 non-null  bool \n",
      " 12  clarity_IF     53940 non-null  bool \n",
      " 13  clarity_VVS1   53940 non-null  bool \n",
      " 14  clarity_VVS2   53940 non-null  bool \n",
      " 15  clarity_VS1    53940 non-null  bool \n",
      " 16  clarity_VS2    53940 non-null  bool \n",
      " 17  clarity_SI1    53940 non-null  bool \n",
      " 18  clarity_SI2    53940 non-null  bool \n",
      " 19  clarity_I1     53940 non-null  bool \n",
      "dtypes: bool(20)\n",
      "memory usage: 1.0 MB\n"
     ]
    }
   ],
   "source": [
    "catColumns=['cut','color','clarity']\n",
    "dummy= pd.get_dummies(diamonds[catColumns])\n",
    "dummy.info()"
   ]
  },
  {
   "cell_type": "code",
   "execution_count": 95,
   "id": "1c4ad215-fd4d-4aba-a6d4-070a16200d48",
   "metadata": {
    "tags": []
   },
   "outputs": [
    {
     "name": "stdout",
     "output_type": "stream",
     "text": [
      "<class 'pandas.core.frame.DataFrame'>\n",
      "RangeIndex: 53940 entries, 0 to 53939\n",
      "Data columns (total 24 columns):\n",
      " #   Column         Non-Null Count  Dtype  \n",
      "---  ------         --------------  -----  \n",
      " 0   carat          53940 non-null  float64\n",
      " 1   depth          53940 non-null  float64\n",
      " 2   table          53940 non-null  float64\n",
      " 3   price          53940 non-null  int64  \n",
      " 4   cut_Ideal      53940 non-null  bool   \n",
      " 5   cut_Premium    53940 non-null  bool   \n",
      " 6   cut_Very Good  53940 non-null  bool   \n",
      " 7   cut_Good       53940 non-null  bool   \n",
      " 8   cut_Fair       53940 non-null  bool   \n",
      " 9   color_D        53940 non-null  bool   \n",
      " 10  color_E        53940 non-null  bool   \n",
      " 11  color_F        53940 non-null  bool   \n",
      " 12  color_G        53940 non-null  bool   \n",
      " 13  color_H        53940 non-null  bool   \n",
      " 14  color_I        53940 non-null  bool   \n",
      " 15  color_J        53940 non-null  bool   \n",
      " 16  clarity_IF     53940 non-null  bool   \n",
      " 17  clarity_VVS1   53940 non-null  bool   \n",
      " 18  clarity_VVS2   53940 non-null  bool   \n",
      " 19  clarity_VS1    53940 non-null  bool   \n",
      " 20  clarity_VS2    53940 non-null  bool   \n",
      " 21  clarity_SI1    53940 non-null  bool   \n",
      " 22  clarity_SI2    53940 non-null  bool   \n",
      " 23  clarity_I1     53940 non-null  bool   \n",
      "dtypes: bool(20), float64(3), int64(1)\n",
      "memory usage: 2.7 MB\n"
     ]
    }
   ],
   "source": [
    "dataDummy = diamonds.drop(columns=catColumns)\n",
    "dataDummy = dataDummy.join(dummy)\n",
    "dataDummy.info()"
   ]
  },
  {
   "cell_type": "code",
   "execution_count": 96,
   "id": "67d64d27-723b-42d2-abee-5ed38b543ba8",
   "metadata": {
    "tags": []
   },
   "outputs": [],
   "source": [
    "from sklearn.preprocessing import StandardScaler"
   ]
  },
  {
   "cell_type": "code",
   "execution_count": 97,
   "id": "91ff841a-8e76-4249-b761-2552b2132eb5",
   "metadata": {
    "tags": []
   },
   "outputs": [
    {
     "data": {
      "text/html": [
       "<div>\n",
       "<style scoped>\n",
       "    .dataframe tbody tr th:only-of-type {\n",
       "        vertical-align: middle;\n",
       "    }\n",
       "\n",
       "    .dataframe tbody tr th {\n",
       "        vertical-align: top;\n",
       "    }\n",
       "\n",
       "    .dataframe thead th {\n",
       "        text-align: right;\n",
       "    }\n",
       "</style>\n",
       "<table border=\"1\" class=\"dataframe\">\n",
       "  <thead>\n",
       "    <tr style=\"text-align: right;\">\n",
       "      <th></th>\n",
       "      <th>carat</th>\n",
       "      <th>depth</th>\n",
       "      <th>table</th>\n",
       "      <th>price</th>\n",
       "      <th>cut_Ideal</th>\n",
       "      <th>cut_Premium</th>\n",
       "      <th>cut_Very Good</th>\n",
       "      <th>cut_Good</th>\n",
       "      <th>cut_Fair</th>\n",
       "      <th>color_D</th>\n",
       "      <th>...</th>\n",
       "      <th>color_I</th>\n",
       "      <th>color_J</th>\n",
       "      <th>clarity_IF</th>\n",
       "      <th>clarity_VVS1</th>\n",
       "      <th>clarity_VVS2</th>\n",
       "      <th>clarity_VS1</th>\n",
       "      <th>clarity_VS2</th>\n",
       "      <th>clarity_SI1</th>\n",
       "      <th>clarity_SI2</th>\n",
       "      <th>clarity_I1</th>\n",
       "    </tr>\n",
       "  </thead>\n",
       "  <tbody>\n",
       "    <tr>\n",
       "      <th>0</th>\n",
       "      <td>-1.198168</td>\n",
       "      <td>-0.174092</td>\n",
       "      <td>-1.099672</td>\n",
       "      <td>326</td>\n",
       "      <td>True</td>\n",
       "      <td>False</td>\n",
       "      <td>False</td>\n",
       "      <td>False</td>\n",
       "      <td>False</td>\n",
       "      <td>False</td>\n",
       "      <td>...</td>\n",
       "      <td>False</td>\n",
       "      <td>False</td>\n",
       "      <td>False</td>\n",
       "      <td>False</td>\n",
       "      <td>False</td>\n",
       "      <td>False</td>\n",
       "      <td>False</td>\n",
       "      <td>False</td>\n",
       "      <td>True</td>\n",
       "      <td>False</td>\n",
       "    </tr>\n",
       "    <tr>\n",
       "      <th>1</th>\n",
       "      <td>-1.240361</td>\n",
       "      <td>-1.360738</td>\n",
       "      <td>1.585529</td>\n",
       "      <td>326</td>\n",
       "      <td>False</td>\n",
       "      <td>True</td>\n",
       "      <td>False</td>\n",
       "      <td>False</td>\n",
       "      <td>False</td>\n",
       "      <td>False</td>\n",
       "      <td>...</td>\n",
       "      <td>False</td>\n",
       "      <td>False</td>\n",
       "      <td>False</td>\n",
       "      <td>False</td>\n",
       "      <td>False</td>\n",
       "      <td>False</td>\n",
       "      <td>False</td>\n",
       "      <td>True</td>\n",
       "      <td>False</td>\n",
       "      <td>False</td>\n",
       "    </tr>\n",
       "    <tr>\n",
       "      <th>2</th>\n",
       "      <td>-1.198168</td>\n",
       "      <td>-3.385019</td>\n",
       "      <td>3.375663</td>\n",
       "      <td>327</td>\n",
       "      <td>False</td>\n",
       "      <td>False</td>\n",
       "      <td>False</td>\n",
       "      <td>True</td>\n",
       "      <td>False</td>\n",
       "      <td>False</td>\n",
       "      <td>...</td>\n",
       "      <td>False</td>\n",
       "      <td>False</td>\n",
       "      <td>False</td>\n",
       "      <td>False</td>\n",
       "      <td>False</td>\n",
       "      <td>True</td>\n",
       "      <td>False</td>\n",
       "      <td>False</td>\n",
       "      <td>False</td>\n",
       "      <td>False</td>\n",
       "    </tr>\n",
       "    <tr>\n",
       "      <th>3</th>\n",
       "      <td>-1.071587</td>\n",
       "      <td>0.454133</td>\n",
       "      <td>0.242928</td>\n",
       "      <td>334</td>\n",
       "      <td>False</td>\n",
       "      <td>True</td>\n",
       "      <td>False</td>\n",
       "      <td>False</td>\n",
       "      <td>False</td>\n",
       "      <td>False</td>\n",
       "      <td>...</td>\n",
       "      <td>True</td>\n",
       "      <td>False</td>\n",
       "      <td>False</td>\n",
       "      <td>False</td>\n",
       "      <td>False</td>\n",
       "      <td>False</td>\n",
       "      <td>True</td>\n",
       "      <td>False</td>\n",
       "      <td>False</td>\n",
       "      <td>False</td>\n",
       "    </tr>\n",
       "    <tr>\n",
       "      <th>4</th>\n",
       "      <td>-1.029394</td>\n",
       "      <td>1.082358</td>\n",
       "      <td>0.242928</td>\n",
       "      <td>335</td>\n",
       "      <td>False</td>\n",
       "      <td>False</td>\n",
       "      <td>False</td>\n",
       "      <td>True</td>\n",
       "      <td>False</td>\n",
       "      <td>False</td>\n",
       "      <td>...</td>\n",
       "      <td>False</td>\n",
       "      <td>True</td>\n",
       "      <td>False</td>\n",
       "      <td>False</td>\n",
       "      <td>False</td>\n",
       "      <td>False</td>\n",
       "      <td>False</td>\n",
       "      <td>False</td>\n",
       "      <td>True</td>\n",
       "      <td>False</td>\n",
       "    </tr>\n",
       "  </tbody>\n",
       "</table>\n",
       "<p>5 rows × 24 columns</p>\n",
       "</div>"
      ],
      "text/plain": [
       "      carat     depth     table  price  cut_Ideal  cut_Premium  cut_Very Good  \\\n",
       "0 -1.198168 -0.174092 -1.099672    326       True        False          False   \n",
       "1 -1.240361 -1.360738  1.585529    326      False         True          False   \n",
       "2 -1.198168 -3.385019  3.375663    327      False        False          False   \n",
       "3 -1.071587  0.454133  0.242928    334      False         True          False   \n",
       "4 -1.029394  1.082358  0.242928    335      False        False          False   \n",
       "\n",
       "   cut_Good  cut_Fair  color_D  ...  color_I  color_J  clarity_IF  \\\n",
       "0     False     False    False  ...    False    False       False   \n",
       "1     False     False    False  ...    False    False       False   \n",
       "2      True     False    False  ...    False    False       False   \n",
       "3     False     False    False  ...     True    False       False   \n",
       "4      True     False    False  ...    False     True       False   \n",
       "\n",
       "   clarity_VVS1  clarity_VVS2  clarity_VS1  clarity_VS2  clarity_SI1  \\\n",
       "0         False         False        False        False        False   \n",
       "1         False         False        False        False         True   \n",
       "2         False         False         True        False        False   \n",
       "3         False         False        False         True        False   \n",
       "4         False         False        False        False        False   \n",
       "\n",
       "   clarity_SI2  clarity_I1  \n",
       "0         True       False  \n",
       "1        False       False  \n",
       "2        False       False  \n",
       "3        False       False  \n",
       "4         True       False  \n",
       "\n",
       "[5 rows x 24 columns]"
      ]
     },
     "execution_count": 97,
     "metadata": {},
     "output_type": "execute_result"
    }
   ],
   "source": [
    "scaler = StandardScaler()\n",
    "numCols = ['carat','depth','table']\n",
    "dataDummy[numCols] = scaler.fit_transform(dataDummy[numCols])\n",
    "dataDummy.head()"
   ]
  },
  {
   "cell_type": "code",
   "execution_count": 98,
   "id": "6ba68976-05a7-4272-a375-1daa8f190b56",
   "metadata": {
    "tags": []
   },
   "outputs": [
    {
     "data": {
      "text/html": [
       "<div>\n",
       "<style scoped>\n",
       "    .dataframe tbody tr th:only-of-type {\n",
       "        vertical-align: middle;\n",
       "    }\n",
       "\n",
       "    .dataframe tbody tr th {\n",
       "        vertical-align: top;\n",
       "    }\n",
       "\n",
       "    .dataframe thead th {\n",
       "        text-align: right;\n",
       "    }\n",
       "</style>\n",
       "<table border=\"1\" class=\"dataframe\">\n",
       "  <thead>\n",
       "    <tr style=\"text-align: right;\">\n",
       "      <th></th>\n",
       "      <th>price</th>\n",
       "    </tr>\n",
       "  </thead>\n",
       "  <tbody>\n",
       "    <tr>\n",
       "      <th>price</th>\n",
       "      <td>1.000000</td>\n",
       "    </tr>\n",
       "    <tr>\n",
       "      <th>carat</th>\n",
       "      <td>0.921591</td>\n",
       "    </tr>\n",
       "    <tr>\n",
       "      <th>clarity_SI2</th>\n",
       "      <td>0.128420</td>\n",
       "    </tr>\n",
       "    <tr>\n",
       "      <th>table</th>\n",
       "      <td>0.127134</td>\n",
       "    </tr>\n",
       "    <tr>\n",
       "      <th>color_I</th>\n",
       "      <td>0.097125</td>\n",
       "    </tr>\n",
       "    <tr>\n",
       "      <th>cut_Premium</th>\n",
       "      <td>0.095706</td>\n",
       "    </tr>\n",
       "    <tr>\n",
       "      <th>color_J</th>\n",
       "      <td>0.081710</td>\n",
       "    </tr>\n",
       "    <tr>\n",
       "      <th>color_H</th>\n",
       "      <td>0.059223</td>\n",
       "    </tr>\n",
       "    <tr>\n",
       "      <th>cut_Fair</th>\n",
       "      <td>0.018728</td>\n",
       "    </tr>\n",
       "    <tr>\n",
       "      <th>clarity_SI1</th>\n",
       "      <td>0.008957</td>\n",
       "    </tr>\n",
       "    <tr>\n",
       "      <th>color_G</th>\n",
       "      <td>0.008556</td>\n",
       "    </tr>\n",
       "    <tr>\n",
       "      <th>cut_Very Good</th>\n",
       "      <td>0.006593</td>\n",
       "    </tr>\n",
       "    <tr>\n",
       "      <th>clarity_I1</th>\n",
       "      <td>-0.000255</td>\n",
       "    </tr>\n",
       "    <tr>\n",
       "      <th>cut_Good</th>\n",
       "      <td>-0.000312</td>\n",
       "    </tr>\n",
       "    <tr>\n",
       "      <th>clarity_VS2</th>\n",
       "      <td>-0.001062</td>\n",
       "    </tr>\n",
       "    <tr>\n",
       "      <th>clarity_VS1</th>\n",
       "      <td>-0.009886</td>\n",
       "    </tr>\n",
       "    <tr>\n",
       "      <th>depth</th>\n",
       "      <td>-0.010647</td>\n",
       "    </tr>\n",
       "    <tr>\n",
       "      <th>color_F</th>\n",
       "      <td>-0.024161</td>\n",
       "    </tr>\n",
       "    <tr>\n",
       "      <th>clarity_IF</th>\n",
       "      <td>-0.049596</td>\n",
       "    </tr>\n",
       "    <tr>\n",
       "      <th>clarity_VVS2</th>\n",
       "      <td>-0.052381</td>\n",
       "    </tr>\n",
       "    <tr>\n",
       "      <th>color_D</th>\n",
       "      <td>-0.072473</td>\n",
       "    </tr>\n",
       "    <tr>\n",
       "      <th>clarity_VVS1</th>\n",
       "      <td>-0.095266</td>\n",
       "    </tr>\n",
       "    <tr>\n",
       "      <th>cut_Ideal</th>\n",
       "      <td>-0.097175</td>\n",
       "    </tr>\n",
       "    <tr>\n",
       "      <th>color_E</th>\n",
       "      <td>-0.101089</td>\n",
       "    </tr>\n",
       "  </tbody>\n",
       "</table>\n",
       "</div>"
      ],
      "text/plain": [
       "                  price\n",
       "price          1.000000\n",
       "carat          0.921591\n",
       "clarity_SI2    0.128420\n",
       "table          0.127134\n",
       "color_I        0.097125\n",
       "cut_Premium    0.095706\n",
       "color_J        0.081710\n",
       "color_H        0.059223\n",
       "cut_Fair       0.018728\n",
       "clarity_SI1    0.008957\n",
       "color_G        0.008556\n",
       "cut_Very Good  0.006593\n",
       "clarity_I1    -0.000255\n",
       "cut_Good      -0.000312\n",
       "clarity_VS2   -0.001062\n",
       "clarity_VS1   -0.009886\n",
       "depth         -0.010647\n",
       "color_F       -0.024161\n",
       "clarity_IF    -0.049596\n",
       "clarity_VVS2  -0.052381\n",
       "color_D       -0.072473\n",
       "clarity_VVS1  -0.095266\n",
       "cut_Ideal     -0.097175\n",
       "color_E       -0.101089"
      ]
     },
     "execution_count": 98,
     "metadata": {},
     "output_type": "execute_result"
    }
   ],
   "source": [
    "dataDummy.corr()[['price']].sort_values(by='price',ascending=False)"
   ]
  },
  {
   "cell_type": "code",
   "execution_count": 99,
   "id": "1e260b96-b270-49d4-b220-d46f77e645b9",
   "metadata": {
    "tags": []
   },
   "outputs": [
    {
     "data": {
      "text/plain": [
       "0.8681842247400542"
      ]
     },
     "execution_count": 99,
     "metadata": {},
     "output_type": "execute_result"
    }
   ],
   "source": [
    "x_train,x_test = train_test_split(dataDummy,test_size=0.30,random_state=20)\n",
    "\n",
    "model=LinearRegression()\n",
    "xCols=['carat','clarity_SI2','table','color_I','cut_Premium']\n",
    "model.fit(x_train[xCols],x_train['price'])\n",
    "\n",
    "model.score(x_test[xCols],x_test['price'])\n",
    "model.score(x_train[xCols],x_train['price'])\n"
   ]
  },
  {
   "cell_type": "code",
   "execution_count": 100,
   "id": "a0028662-3bf9-4ff3-851a-1ba3f34fd2cc",
   "metadata": {
    "tags": []
   },
   "outputs": [
    {
     "data": {
      "text/plain": [
       "0.871080526795012"
      ]
     },
     "execution_count": 100,
     "metadata": {},
     "output_type": "execute_result"
    }
   ],
   "source": [
    "model=LinearRegression()\n",
    "xCols=['carat','clarity_SI2','table','color_I','cut_Premium']\n",
    "model.fit(x_test[xCols],x_test['price'])\n",
    "\n",
    "model.score(x_train[xCols],x_train['price'])\n",
    "model.score(x_test[xCols],x_test['price'])"
   ]
  },
  {
   "cell_type": "raw",
   "id": "3914e75e-d474-4109-b7b4-13984ca16990",
   "metadata": {},
   "source": [
    "y_predicted =model.predict(x_test[xCols])"
   ]
  },
  {
   "cell_type": "code",
   "execution_count": 104,
   "id": "f01b4ab6-6e33-473b-b68a-6f3dfa6980ba",
   "metadata": {
    "tags": []
   },
   "outputs": [
    {
     "data": {
      "text/html": [
       "<div>\n",
       "<style scoped>\n",
       "    .dataframe tbody tr th:only-of-type {\n",
       "        vertical-align: middle;\n",
       "    }\n",
       "\n",
       "    .dataframe tbody tr th {\n",
       "        vertical-align: top;\n",
       "    }\n",
       "\n",
       "    .dataframe thead th {\n",
       "        text-align: right;\n",
       "    }\n",
       "</style>\n",
       "<table border=\"1\" class=\"dataframe\">\n",
       "  <thead>\n",
       "    <tr style=\"text-align: right;\">\n",
       "      <th></th>\n",
       "      <th>carat</th>\n",
       "      <th>clarity_SI2</th>\n",
       "      <th>table</th>\n",
       "      <th>color_I</th>\n",
       "      <th>cut_Premium</th>\n",
       "      <th>price</th>\n",
       "      <th>predicted_Price</th>\n",
       "    </tr>\n",
       "  </thead>\n",
       "  <tbody>\n",
       "    <tr>\n",
       "      <th>0</th>\n",
       "      <td>1.523312</td>\n",
       "      <td>False</td>\n",
       "      <td>3.823196</td>\n",
       "      <td>False</td>\n",
       "      <td>False</td>\n",
       "      <td>8674</td>\n",
       "      <td>8730.664269</td>\n",
       "    </tr>\n",
       "    <tr>\n",
       "      <th>1</th>\n",
       "      <td>-0.544169</td>\n",
       "      <td>False</td>\n",
       "      <td>0.242928</td>\n",
       "      <td>False</td>\n",
       "      <td>True</td>\n",
       "      <td>1637</td>\n",
       "      <td>1803.864340</td>\n",
       "    </tr>\n",
       "    <tr>\n",
       "      <th>2</th>\n",
       "      <td>-0.206621</td>\n",
       "      <td>False</td>\n",
       "      <td>1.137995</td>\n",
       "      <td>False</td>\n",
       "      <td>True</td>\n",
       "      <td>2657</td>\n",
       "      <td>2871.777435</td>\n",
       "    </tr>\n",
       "    <tr>\n",
       "      <th>3</th>\n",
       "      <td>-0.438685</td>\n",
       "      <td>False</td>\n",
       "      <td>0.242928</td>\n",
       "      <td>False</td>\n",
       "      <td>False</td>\n",
       "      <td>1838</td>\n",
       "      <td>2166.955196</td>\n",
       "    </tr>\n",
       "    <tr>\n",
       "      <th>4</th>\n",
       "      <td>0.130927</td>\n",
       "      <td>True</td>\n",
       "      <td>0.242928</td>\n",
       "      <td>False</td>\n",
       "      <td>True</td>\n",
       "      <td>2980</td>\n",
       "      <td>4346.274389</td>\n",
       "    </tr>\n",
       "  </tbody>\n",
       "</table>\n",
       "</div>"
      ],
      "text/plain": [
       "      carat  clarity_SI2     table  color_I  cut_Premium  price  \\\n",
       "0  1.523312        False  3.823196    False        False   8674   \n",
       "1 -0.544169        False  0.242928    False         True   1637   \n",
       "2 -0.206621        False  1.137995    False         True   2657   \n",
       "3 -0.438685        False  0.242928    False        False   1838   \n",
       "4  0.130927         True  0.242928    False         True   2980   \n",
       "\n",
       "   predicted_Price  \n",
       "0      8730.664269  \n",
       "1      1803.864340  \n",
       "2      2871.777435  \n",
       "3      2166.955196  \n",
       "4      4346.274389  "
      ]
     },
     "execution_count": 104,
     "metadata": {},
     "output_type": "execute_result"
    }
   ],
   "source": [
    "predicted =pd.DataFrame(y_predicted,columns=['predicted_Price'])\n",
    "final=predicted.join([x_test[xCols].reset_index(drop=True),x_test['price'].reset_index(drop=True)])\n",
    "final[['carat','clarity_SI2','table','color_I','cut_Premium','price','predicted_Price']].head()"
   ]
  },
  {
   "cell_type": "code",
   "execution_count": 105,
   "id": "9a5f9c39-c76b-4888-a1ad-84c4b0030923",
   "metadata": {
    "tags": []
   },
   "outputs": [],
   "source": [
    "from sklearn.feature_selection import SelectKBest\n",
    "from sklearn.feature_selection import mutual_info_regression\n"
   ]
  },
  {
   "cell_type": "code",
   "execution_count": 107,
   "id": "a6714f28-96fd-493a-bef6-aec32515f5bb",
   "metadata": {
    "tags": []
   },
   "outputs": [
    {
     "name": "stdout",
     "output_type": "stream",
     "text": [
      "<class 'pandas.core.frame.DataFrame'>\n",
      "RangeIndex: 53940 entries, 0 to 53939\n",
      "Data columns (total 24 columns):\n",
      " #   Column         Non-Null Count  Dtype  \n",
      "---  ------         --------------  -----  \n",
      " 0   carat          53940 non-null  float64\n",
      " 1   depth          53940 non-null  float64\n",
      " 2   table          53940 non-null  float64\n",
      " 3   price          53940 non-null  int64  \n",
      " 4   cut_Ideal      53940 non-null  bool   \n",
      " 5   cut_Premium    53940 non-null  bool   \n",
      " 6   cut_Very Good  53940 non-null  bool   \n",
      " 7   cut_Good       53940 non-null  bool   \n",
      " 8   cut_Fair       53940 non-null  bool   \n",
      " 9   color_D        53940 non-null  bool   \n",
      " 10  color_E        53940 non-null  bool   \n",
      " 11  color_F        53940 non-null  bool   \n",
      " 12  color_G        53940 non-null  bool   \n",
      " 13  color_H        53940 non-null  bool   \n",
      " 14  color_I        53940 non-null  bool   \n",
      " 15  color_J        53940 non-null  bool   \n",
      " 16  clarity_IF     53940 non-null  bool   \n",
      " 17  clarity_VVS1   53940 non-null  bool   \n",
      " 18  clarity_VVS2   53940 non-null  bool   \n",
      " 19  clarity_VS1    53940 non-null  bool   \n",
      " 20  clarity_VS2    53940 non-null  bool   \n",
      " 21  clarity_SI1    53940 non-null  bool   \n",
      " 22  clarity_SI2    53940 non-null  bool   \n",
      " 23  clarity_I1     53940 non-null  bool   \n",
      "dtypes: bool(20), float64(3), int64(1)\n",
      "memory usage: 2.7 MB\n"
     ]
    }
   ],
   "source": [
    "dataDummy.info()"
   ]
  },
  {
   "cell_type": "code",
   "execution_count": 116,
   "id": "afabfa57-848b-4ac7-8eae-6ddb18efffa3",
   "metadata": {
    "tags": []
   },
   "outputs": [],
   "source": [
    "train, test= train_test_split(dataDummy,\n",
    "                                  test_size=0.30,random_state=20)"
   ]
  },
  {
   "cell_type": "code",
   "execution_count": 118,
   "id": "83cba90d-faeb-4624-9d5e-063b5e94b1d4",
   "metadata": {
    "tags": []
   },
   "outputs": [],
   "source": [
    "fs=SelectKBest(score_func=mutual_info_regression,k=15)\n",
    "fs.fit(train.drop(columns=['price']),train['price'])\n",
    "x_train_fs=fs.transform(train.drop(columns=['price']))\n",
    "x_test_fs=fs.transform(test.drop(columns=['price']))"
   ]
  },
  {
   "cell_type": "code",
   "execution_count": 119,
   "id": "0932c70e-eaa4-4214-8290-12a4a5fb101c",
   "metadata": {
    "tags": []
   },
   "outputs": [
    {
     "data": {
      "text/plain": [
       "0.8937376385057032"
      ]
     },
     "execution_count": 119,
     "metadata": {},
     "output_type": "execute_result"
    }
   ],
   "source": [
    "model=LinearRegression()\n",
    "model.fit(x_train_fs,train['price'])\n",
    "model.score(x_test_fs,test['price'])\n",
    "model.score(x_train_fs,train['price'])"
   ]
  },
  {
   "cell_type": "code",
   "execution_count": 120,
   "id": "c748ef5b-ca0b-48bd-8803-96e202ce8fe7",
   "metadata": {
    "tags": []
   },
   "outputs": [
    {
     "data": {
      "text/plain": [
       "0.8973744940466785"
      ]
     },
     "execution_count": 120,
     "metadata": {},
     "output_type": "execute_result"
    }
   ],
   "source": [
    "model=LinearRegression()\n",
    "model.fit(x_test_fs,test['price'])\n",
    "model.score(x_train_fs,train['price'])\n",
    "model.score(x_test_fs,test['price'])"
   ]
  },
  {
   "cell_type": "code",
   "execution_count": 121,
   "id": "bf4c0d97-cb1f-440e-9c54-c82dea4dc4a9",
   "metadata": {
    "tags": []
   },
   "outputs": [],
   "source": [
    "df1=pd.DataFrame(train.drop(columns=['price']).columns,\n",
    "                 columns=['Feature'])"
   ]
  },
  {
   "cell_type": "code",
   "execution_count": 122,
   "id": "05a1e0f4-dd2a-4ec8-8fb8-dc9670d37c2c",
   "metadata": {
    "tags": []
   },
   "outputs": [],
   "source": [
    "df2=pd.DataFrame(fs.scores_,columns=['Significance'])"
   ]
  },
  {
   "cell_type": "code",
   "execution_count": 123,
   "id": "331a1a34-13e9-423c-858d-f9aab15c1d57",
   "metadata": {
    "tags": []
   },
   "outputs": [
    {
     "data": {
      "text/html": [
       "<div>\n",
       "<style scoped>\n",
       "    .dataframe tbody tr th:only-of-type {\n",
       "        vertical-align: middle;\n",
       "    }\n",
       "\n",
       "    .dataframe tbody tr th {\n",
       "        vertical-align: top;\n",
       "    }\n",
       "\n",
       "    .dataframe thead th {\n",
       "        text-align: right;\n",
       "    }\n",
       "</style>\n",
       "<table border=\"1\" class=\"dataframe\">\n",
       "  <thead>\n",
       "    <tr style=\"text-align: right;\">\n",
       "      <th></th>\n",
       "      <th>Feature</th>\n",
       "      <th>Significance</th>\n",
       "    </tr>\n",
       "  </thead>\n",
       "  <tbody>\n",
       "    <tr>\n",
       "      <th>0</th>\n",
       "      <td>carat</td>\n",
       "      <td>1.904697</td>\n",
       "    </tr>\n",
       "    <tr>\n",
       "      <th>20</th>\n",
       "      <td>clarity_SI1</td>\n",
       "      <td>0.094939</td>\n",
       "    </tr>\n",
       "    <tr>\n",
       "      <th>19</th>\n",
       "      <td>clarity_VS2</td>\n",
       "      <td>0.084505</td>\n",
       "    </tr>\n",
       "    <tr>\n",
       "      <th>21</th>\n",
       "      <td>clarity_SI2</td>\n",
       "      <td>0.078372</td>\n",
       "    </tr>\n",
       "    <tr>\n",
       "      <th>9</th>\n",
       "      <td>color_E</td>\n",
       "      <td>0.072806</td>\n",
       "    </tr>\n",
       "    <tr>\n",
       "      <th>8</th>\n",
       "      <td>color_D</td>\n",
       "      <td>0.066267</td>\n",
       "    </tr>\n",
       "    <tr>\n",
       "      <th>10</th>\n",
       "      <td>color_F</td>\n",
       "      <td>0.058680</td>\n",
       "    </tr>\n",
       "    <tr>\n",
       "      <th>11</th>\n",
       "      <td>color_G</td>\n",
       "      <td>0.053573</td>\n",
       "    </tr>\n",
       "    <tr>\n",
       "      <th>16</th>\n",
       "      <td>clarity_VVS1</td>\n",
       "      <td>0.053399</td>\n",
       "    </tr>\n",
       "    <tr>\n",
       "      <th>12</th>\n",
       "      <td>color_H</td>\n",
       "      <td>0.050373</td>\n",
       "    </tr>\n",
       "    <tr>\n",
       "      <th>17</th>\n",
       "      <td>clarity_VVS2</td>\n",
       "      <td>0.050265</td>\n",
       "    </tr>\n",
       "    <tr>\n",
       "      <th>3</th>\n",
       "      <td>cut_Ideal</td>\n",
       "      <td>0.049934</td>\n",
       "    </tr>\n",
       "    <tr>\n",
       "      <th>2</th>\n",
       "      <td>table</td>\n",
       "      <td>0.049645</td>\n",
       "    </tr>\n",
       "    <tr>\n",
       "      <th>18</th>\n",
       "      <td>clarity_VS1</td>\n",
       "      <td>0.047792</td>\n",
       "    </tr>\n",
       "    <tr>\n",
       "      <th>4</th>\n",
       "      <td>cut_Premium</td>\n",
       "      <td>0.038627</td>\n",
       "    </tr>\n",
       "    <tr>\n",
       "      <th>15</th>\n",
       "      <td>clarity_IF</td>\n",
       "      <td>0.036350</td>\n",
       "    </tr>\n",
       "    <tr>\n",
       "      <th>1</th>\n",
       "      <td>depth</td>\n",
       "      <td>0.036020</td>\n",
       "    </tr>\n",
       "    <tr>\n",
       "      <th>13</th>\n",
       "      <td>color_I</td>\n",
       "      <td>0.029289</td>\n",
       "    </tr>\n",
       "    <tr>\n",
       "      <th>5</th>\n",
       "      <td>cut_Very Good</td>\n",
       "      <td>0.029264</td>\n",
       "    </tr>\n",
       "    <tr>\n",
       "      <th>14</th>\n",
       "      <td>color_J</td>\n",
       "      <td>0.015817</td>\n",
       "    </tr>\n",
       "    <tr>\n",
       "      <th>6</th>\n",
       "      <td>cut_Good</td>\n",
       "      <td>0.012020</td>\n",
       "    </tr>\n",
       "    <tr>\n",
       "      <th>7</th>\n",
       "      <td>cut_Fair</td>\n",
       "      <td>0.009145</td>\n",
       "    </tr>\n",
       "    <tr>\n",
       "      <th>22</th>\n",
       "      <td>clarity_I1</td>\n",
       "      <td>0.005617</td>\n",
       "    </tr>\n",
       "  </tbody>\n",
       "</table>\n",
       "</div>"
      ],
      "text/plain": [
       "          Feature  Significance\n",
       "0           carat      1.904697\n",
       "20    clarity_SI1      0.094939\n",
       "19    clarity_VS2      0.084505\n",
       "21    clarity_SI2      0.078372\n",
       "9         color_E      0.072806\n",
       "8         color_D      0.066267\n",
       "10        color_F      0.058680\n",
       "11        color_G      0.053573\n",
       "16   clarity_VVS1      0.053399\n",
       "12        color_H      0.050373\n",
       "17   clarity_VVS2      0.050265\n",
       "3       cut_Ideal      0.049934\n",
       "2           table      0.049645\n",
       "18    clarity_VS1      0.047792\n",
       "4     cut_Premium      0.038627\n",
       "15     clarity_IF      0.036350\n",
       "1           depth      0.036020\n",
       "13        color_I      0.029289\n",
       "5   cut_Very Good      0.029264\n",
       "14        color_J      0.015817\n",
       "6        cut_Good      0.012020\n",
       "7        cut_Fair      0.009145\n",
       "22     clarity_I1      0.005617"
      ]
     },
     "execution_count": 123,
     "metadata": {},
     "output_type": "execute_result"
    }
   ],
   "source": [
    "significance=df1.join(df2)\n",
    "significance.sort_values('Significance',ascending=False)"
   ]
  },
  {
   "cell_type": "code",
   "execution_count": 125,
   "id": "cce005eb-46ff-47a5-87f7-5583a2f466da",
   "metadata": {
    "tags": []
   },
   "outputs": [],
   "source": [
    "model=LinearRegression()\n",
    "testScores=[]\n",
    "trainScores=[]"
   ]
  },
  {
   "cell_type": "code",
   "execution_count": 127,
   "id": "75bcba17-2d4c-4599-bb95-1a587dd4e8dd",
   "metadata": {
    "tags": []
   },
   "outputs": [],
   "source": [
    "for i in range(1,len(x_train.columns)):\n",
    "    fs = SelectKBest(score_func=mutual_info_regression,k=i)\n",
    "    fs.fit(x_train.drop(columns=['price']),x_train['price'])\n",
    "    x_train_fs=fs.transform(x_train.drop(columns=['price']))\n",
    "    x_test_fs=fs.transform(x_test.drop(columns=['price']))\n",
    "    model.fit(x_train_fs,x_train['price'])\n",
    "    testScore=model.score(x_test_fs,x_test['price'])\n",
    "    trainScore=model.score(x_train_fs,x_train['price'])\n",
    "    testScores.append(testScore)\n",
    "    trainScores.append(trainScore)"
   ]
  },
  {
   "cell_type": "code",
   "execution_count": 130,
   "id": "8b461c3f-9e22-4a97-9cac-0e7b074cfbea",
   "metadata": {
    "tags": []
   },
   "outputs": [
    {
     "ename": "ValueError",
     "evalue": "If using all scalar values, you must pass an index",
     "output_type": "error",
     "traceback": [
      "\u001b[1;31m---------------------------------------------------------------------------\u001b[0m",
      "\u001b[1;31mValueError\u001b[0m                                Traceback (most recent call last)",
      "Cell \u001b[1;32mIn[130], line 1\u001b[0m\n\u001b[1;32m----> 1\u001b[0m df\u001b[38;5;241m=\u001b[39mpd\u001b[38;5;241m.\u001b[39mDataFrame(data\u001b[38;5;241m=\u001b[39m{\u001b[38;5;124m'\u001b[39m\u001b[38;5;124mtestScores\u001b[39m\u001b[38;5;124m'\u001b[39m:test,\u001b[38;5;124m'\u001b[39m\u001b[38;5;124mtrainScores\u001b[39m\u001b[38;5;124m'\u001b[39m:train})\n\u001b[0;32m      2\u001b[0m df\u001b[38;5;241m.\u001b[39mreset_index(inplace\u001b[38;5;241m=\u001b[39m\u001b[38;5;28;01mTrue\u001b[39;00m)\n\u001b[0;32m      3\u001b[0m df\u001b[38;5;241m.\u001b[39mrename(columns\u001b[38;5;241m=\u001b[39m{\u001b[38;5;124m'\u001b[39m\u001b[38;5;124mindex\u001b[39m\u001b[38;5;124m'\u001b[39m:\u001b[38;5;124m'\u001b[39m\u001b[38;5;124mnumFeatures\u001b[39m\u001b[38;5;124m'\u001b[39m},inplace\u001b[38;5;241m=\u001b[39m\u001b[38;5;28;01mTrue\u001b[39;00m)\n",
      "File \u001b[1;32m~\\anaconda3\\Lib\\site-packages\\pandas\\core\\frame.py:733\u001b[0m, in \u001b[0;36mDataFrame.__init__\u001b[1;34m(self, data, index, columns, dtype, copy)\u001b[0m\n\u001b[0;32m    727\u001b[0m     mgr \u001b[38;5;241m=\u001b[39m \u001b[38;5;28mself\u001b[39m\u001b[38;5;241m.\u001b[39m_init_mgr(\n\u001b[0;32m    728\u001b[0m         data, axes\u001b[38;5;241m=\u001b[39m{\u001b[38;5;124m\"\u001b[39m\u001b[38;5;124mindex\u001b[39m\u001b[38;5;124m\"\u001b[39m: index, \u001b[38;5;124m\"\u001b[39m\u001b[38;5;124mcolumns\u001b[39m\u001b[38;5;124m\"\u001b[39m: columns}, dtype\u001b[38;5;241m=\u001b[39mdtype, copy\u001b[38;5;241m=\u001b[39mcopy\n\u001b[0;32m    729\u001b[0m     )\n\u001b[0;32m    731\u001b[0m \u001b[38;5;28;01melif\u001b[39;00m \u001b[38;5;28misinstance\u001b[39m(data, \u001b[38;5;28mdict\u001b[39m):\n\u001b[0;32m    732\u001b[0m     \u001b[38;5;66;03m# GH#38939 de facto copy defaults to False only in non-dict cases\u001b[39;00m\n\u001b[1;32m--> 733\u001b[0m     mgr \u001b[38;5;241m=\u001b[39m dict_to_mgr(data, index, columns, dtype\u001b[38;5;241m=\u001b[39mdtype, copy\u001b[38;5;241m=\u001b[39mcopy, typ\u001b[38;5;241m=\u001b[39mmanager)\n\u001b[0;32m    734\u001b[0m \u001b[38;5;28;01melif\u001b[39;00m \u001b[38;5;28misinstance\u001b[39m(data, ma\u001b[38;5;241m.\u001b[39mMaskedArray):\n\u001b[0;32m    735\u001b[0m     \u001b[38;5;28;01mfrom\u001b[39;00m \u001b[38;5;21;01mnumpy\u001b[39;00m\u001b[38;5;21;01m.\u001b[39;00m\u001b[38;5;21;01mma\u001b[39;00m \u001b[38;5;28;01mimport\u001b[39;00m mrecords\n",
      "File \u001b[1;32m~\\anaconda3\\Lib\\site-packages\\pandas\\core\\internals\\construction.py:503\u001b[0m, in \u001b[0;36mdict_to_mgr\u001b[1;34m(data, index, columns, dtype, typ, copy)\u001b[0m\n\u001b[0;32m    499\u001b[0m     \u001b[38;5;28;01melse\u001b[39;00m:\n\u001b[0;32m    500\u001b[0m         \u001b[38;5;66;03m# dtype check to exclude e.g. range objects, scalars\u001b[39;00m\n\u001b[0;32m    501\u001b[0m         arrays \u001b[38;5;241m=\u001b[39m [x\u001b[38;5;241m.\u001b[39mcopy() \u001b[38;5;28;01mif\u001b[39;00m \u001b[38;5;28mhasattr\u001b[39m(x, \u001b[38;5;124m\"\u001b[39m\u001b[38;5;124mdtype\u001b[39m\u001b[38;5;124m\"\u001b[39m) \u001b[38;5;28;01melse\u001b[39;00m x \u001b[38;5;28;01mfor\u001b[39;00m x \u001b[38;5;129;01min\u001b[39;00m arrays]\n\u001b[1;32m--> 503\u001b[0m \u001b[38;5;28;01mreturn\u001b[39;00m arrays_to_mgr(arrays, columns, index, dtype\u001b[38;5;241m=\u001b[39mdtype, typ\u001b[38;5;241m=\u001b[39mtyp, consolidate\u001b[38;5;241m=\u001b[39mcopy)\n",
      "File \u001b[1;32m~\\anaconda3\\Lib\\site-packages\\pandas\\core\\internals\\construction.py:114\u001b[0m, in \u001b[0;36marrays_to_mgr\u001b[1;34m(arrays, columns, index, dtype, verify_integrity, typ, consolidate)\u001b[0m\n\u001b[0;32m    111\u001b[0m \u001b[38;5;28;01mif\u001b[39;00m verify_integrity:\n\u001b[0;32m    112\u001b[0m     \u001b[38;5;66;03m# figure out the index, if necessary\u001b[39;00m\n\u001b[0;32m    113\u001b[0m     \u001b[38;5;28;01mif\u001b[39;00m index \u001b[38;5;129;01mis\u001b[39;00m \u001b[38;5;28;01mNone\u001b[39;00m:\n\u001b[1;32m--> 114\u001b[0m         index \u001b[38;5;241m=\u001b[39m _extract_index(arrays)\n\u001b[0;32m    115\u001b[0m     \u001b[38;5;28;01melse\u001b[39;00m:\n\u001b[0;32m    116\u001b[0m         index \u001b[38;5;241m=\u001b[39m ensure_index(index)\n",
      "File \u001b[1;32m~\\anaconda3\\Lib\\site-packages\\pandas\\core\\internals\\construction.py:667\u001b[0m, in \u001b[0;36m_extract_index\u001b[1;34m(data)\u001b[0m\n\u001b[0;32m    664\u001b[0m         \u001b[38;5;28;01mraise\u001b[39;00m \u001b[38;5;167;01mValueError\u001b[39;00m(\u001b[38;5;124m\"\u001b[39m\u001b[38;5;124mPer-column arrays must each be 1-dimensional\u001b[39m\u001b[38;5;124m\"\u001b[39m)\n\u001b[0;32m    666\u001b[0m \u001b[38;5;28;01mif\u001b[39;00m \u001b[38;5;129;01mnot\u001b[39;00m indexes \u001b[38;5;129;01mand\u001b[39;00m \u001b[38;5;129;01mnot\u001b[39;00m raw_lengths:\n\u001b[1;32m--> 667\u001b[0m     \u001b[38;5;28;01mraise\u001b[39;00m \u001b[38;5;167;01mValueError\u001b[39;00m(\u001b[38;5;124m\"\u001b[39m\u001b[38;5;124mIf using all scalar values, you must pass an index\u001b[39m\u001b[38;5;124m\"\u001b[39m)\n\u001b[0;32m    669\u001b[0m \u001b[38;5;28;01mif\u001b[39;00m have_series:\n\u001b[0;32m    670\u001b[0m     index \u001b[38;5;241m=\u001b[39m union_indexes(indexes)\n",
      "\u001b[1;31mValueError\u001b[0m: If using all scalar values, you must pass an index"
     ]
    }
   ],
   "source": [
    "df=pd.DataFrame(data={'testScores':test,'trainScores':train})\n",
    "df.reset_index(inplace=True)\n",
    "df.rename(columns={'index':'numFeatures'},inplace=True)\n",
    "df['numFeatures']=df['numFeatures']+1\n",
    "df.plot(x='numFeatures',y=['testScores','trainScores'])"
   ]
  },
  {
   "cell_type": "code",
   "execution_count": null,
   "id": "80744d2f-8f20-419a-ac7d-4825dd7c659e",
   "metadata": {},
   "outputs": [],
   "source": []
  }
 ],
 "metadata": {
  "kernelspec": {
   "display_name": "Python 3 (ipykernel)",
   "language": "python",
   "name": "python3"
  },
  "language_info": {
   "codemirror_mode": {
    "name": "ipython",
    "version": 3
   },
   "file_extension": ".py",
   "mimetype": "text/x-python",
   "name": "python",
   "nbconvert_exporter": "python",
   "pygments_lexer": "ipython3",
   "version": "3.11.5"
  }
 },
 "nbformat": 4,
 "nbformat_minor": 5
}
