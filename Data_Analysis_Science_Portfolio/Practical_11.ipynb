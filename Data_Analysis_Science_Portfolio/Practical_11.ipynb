{
 "cells": [
  {
   "cell_type": "code",
   "execution_count": 3,
   "metadata": {},
   "outputs": [],
   "source": [
    "import pandas as pd\n",
    "import seaborn as sns\n"
   ]
  },
  {
   "cell_type": "markdown",
   "metadata": {},
   "source": [
    "## PART 1"
   ]
  },
  {
   "cell_type": "code",
   "execution_count": 4,
   "metadata": {},
   "outputs": [],
   "source": [
    "# Quiestion 1\n",
    "\n",
    "diamonds = sns.load_dataset('diamonds')\n",
    "diamonds.to_pickle('diamonds.pkl')"
   ]
  },
  {
   "cell_type": "code",
   "execution_count": null,
   "metadata": {},
   "outputs": [],
   "source": [
    "# Question 1\n",
    "\n",
    "diamonds = pd.read_pickle('diamonds.pkl')\n",
    "diamonds.info()\n"
   ]
  },
  {
   "cell_type": "code",
   "execution_count": null,
   "metadata": {},
   "outputs": [],
   "source": [
    "# Question 2\n",
    "diamonds.corr()"
   ]
  },
  {
   "cell_type": "code",
   "execution_count": null,
   "metadata": {},
   "outputs": [],
   "source": [
    "# Question 2\n",
    "\n",
    "import matplotlib.pyplot as plt\n",
    "\n",
    "fig, ax = plt.subplots(figsize=(8,8))\n",
    "sns.heatmap(data=diamonds.corr()[['price']].sort_values('price', ascending=False),\n",
    "            annot=True, cmap='plasma', vmin=-1, vmax=1, fmt='.2f')"
   ]
  },
  {
   "cell_type": "code",
   "execution_count": 8,
   "metadata": {},
   "outputs": [],
   "source": [
    "from sklearn.linear_model import LinearRegression\n",
    "from sklearn.model_selection import train_test_split"
   ]
  },
  {
   "cell_type": "code",
   "execution_count": null,
   "metadata": {},
   "outputs": [],
   "source": [
    "# Question 3 and 4\n",
    "\n",
    "x_train, x_test, y_train, y_test = train_test_split(\n",
    "    diamonds[['carat', 'table', 'depth']], diamonds[['price']],\n",
    "    test_size=0.30, random_state=42)\n",
    "model = LinearRegression()\n",
    "model.fit(x_train, y_train)\n"
   ]
  },
  {
   "cell_type": "code",
   "execution_count": null,
   "metadata": {},
   "outputs": [],
   "source": [
    "# Question 5\n",
    "\n",
    "model.score(x_test, y_test)"
   ]
  },
  {
   "cell_type": "code",
   "execution_count": null,
   "metadata": {},
   "outputs": [],
   "source": [
    "# Question 6\n",
    "\n",
    "model.score(x_train, y_train)"
   ]
  },
  {
   "cell_type": "code",
   "execution_count": 11,
   "metadata": {},
   "outputs": [],
   "source": [
    "# Question 7\n",
    "\n",
    "y_predicted = model.predict(x_test)"
   ]
  },
  {
   "cell_type": "code",
   "execution_count": null,
   "metadata": {},
   "outputs": [],
   "source": [
    "# Question 8\n",
    "\n",
    "predicted = pd.DataFrame(y_predicted, columns=['predictedPrice'])\n",
    "final = predicted.join([x_test.reset_index(drop=True),\n",
    "                       y_test.reset_index(drop=True)])\n",
    "final[['carat', 'table', 'depth', 'price', 'predictedPrice']]"
   ]
  },
  {
   "cell_type": "code",
   "execution_count": null,
   "metadata": {},
   "outputs": [],
   "source": [
    "# Question 9\n",
    "\n",
    "final['residuals'] = final.price - final.predictedPrice\n",
    "final"
   ]
  },
  {
   "cell_type": "code",
   "execution_count": null,
   "metadata": {},
   "outputs": [],
   "source": [
    "# Question 10\n",
    "plt.figure(figsize=(8,8))\n",
    "sns.kdeplot(final, x='residuals', fill=True)\n",
    "plt.show()"
   ]
  },
  {
   "cell_type": "code",
   "execution_count": null,
   "metadata": {},
   "outputs": [],
   "source": [
    "# Question 10\n",
    "\n",
    "sns.displot(final, x='residuals', kind='kde', height=5, aspect=1.5, fill=True)"
   ]
  },
  {
   "cell_type": "markdown",
   "metadata": {},
   "source": [
    "## PART 2\n"
   ]
  },
  {
   "cell_type": "code",
   "execution_count": null,
   "metadata": {},
   "outputs": [],
   "source": [
    "# Question 1\n",
    "\n",
    "diamonds = pd.read_pickle('diamonds.pkl')\n",
    "diamonds= diamonds.drop(columns=['x', 'y', 'z'])\n",
    "diamonds.head()"
   ]
  },
  {
   "cell_type": "code",
   "execution_count": null,
   "metadata": {},
   "outputs": [],
   "source": [
    "# Question 2\n",
    "\n",
    "diamonds.info()"
   ]
  },
  {
   "cell_type": "code",
   "execution_count": null,
   "metadata": {},
   "outputs": [],
   "source": [
    "# Question 3\n",
    "\n",
    "categoryColumns = ['cut', 'color', 'clarity']\n",
    "dummies = pd.get_dummies(diamonds[categoryColumns])\n",
    "dummies.info()"
   ]
  },
  {
   "cell_type": "code",
   "execution_count": null,
   "metadata": {},
   "outputs": [],
   "source": [
    "# Question 4\n",
    "\n",
    "diamondDummies = diamonds.drop(columns=categoryColumns)\n",
    "diamondDummies = diamondDummies.join(dummies)\n",
    "diamondDummies.info()"
   ]
  },
  {
   "cell_type": "code",
   "execution_count": null,
   "metadata": {},
   "outputs": [],
   "source": [
    "# Question 5\n",
    "from sklearn.preprocessing import StandardScaler\n",
    "\n",
    "scaler = StandardScaler()\n",
    "numcols = ['carat', 'depth', 'table']\n",
    "diamondDummies[numcols] = scaler.fit_transform(diamondDummies[numcols])\n",
    "diamondDummies.head()"
   ]
  },
  {
   "cell_type": "code",
   "execution_count": null,
   "metadata": {},
   "outputs": [],
   "source": [
    "# Question 6 - Correlation with corr() function\n",
    "diamondDummies.corr()[['price']]"
   ]
  },
  {
   "cell_type": "code",
   "execution_count": null,
   "metadata": {},
   "outputs": [],
   "source": [
    "# Question 6 - With Heatmap\n",
    "fig, ax = plt.subplots(figsize=(12,12))\n",
    "sns.heatmap(data=diamondDummies.corr(), annot=True, cmap='coolwarm', vmin=-1, vmax=1, fmt='.1f')"
   ]
  },
  {
   "cell_type": "code",
   "execution_count": null,
   "metadata": {},
   "outputs": [],
   "source": [
    "# Question 6 - With Heatmap including only price column\n",
    "\n",
    "fig, ax = plt.subplots(figsize=(8,8))\n",
    "sns.heatmap(data=diamondDummies.corr()[['price']].sort_values('price', ascending=False),\n",
    "            annot=True, cmap='plasma', vmin=-1, vmax=1, fmt='.2f')"
   ]
  },
  {
   "cell_type": "code",
   "execution_count": 57,
   "metadata": {},
   "outputs": [],
   "source": [
    "# Question 7\n",
    "\n",
    "from sklearn.linear_model import LinearRegression\n",
    "from sklearn.model_selection import train_test_split\n",
    "\n",
    "diamondsTrain, diamondsTest =train_test_split(diamondDummies,\n",
    "                                               test_size=0.30, random_state=42)"
   ]
  },
  {
   "cell_type": "code",
   "execution_count": null,
   "metadata": {},
   "outputs": [],
   "source": [
    "# Question 8\n",
    "\n",
    "diammondModel = LinearRegression()\n",
    "xCols = ['carat', 'clarity_SI2', 'table', 'color_I', 'cut_Premium']\n",
    "diammondModel.fit(diamondsTrain[xCols], diamondsTrain['price'])"
   ]
  },
  {
   "cell_type": "code",
   "execution_count": null,
   "metadata": {},
   "outputs": [],
   "source": [
    "# Question 9\n",
    "\n",
    "diammondModel.score(diamondsTest[xCols], diamondsTest['price'])"
   ]
  },
  {
   "cell_type": "code",
   "execution_count": null,
   "metadata": {},
   "outputs": [],
   "source": [
    "# Question 10\n",
    "\n",
    "diammondModel.score(diamondsTrain[xCols], diamondsTrain['price'])"
   ]
  },
  {
   "cell_type": "code",
   "execution_count": null,
   "metadata": {},
   "outputs": [],
   "source": [
    "# Question 11\n",
    "\n",
    "diamondPredict = diammondModel.predict(diamondsTest[xCols])\n",
    "diamondPredict"
   ]
  },
  {
   "cell_type": "code",
   "execution_count": null,
   "metadata": {},
   "outputs": [],
   "source": [
    "# Question 12\n",
    "\n",
    "diamondsPredicted = pd.DataFrame(diamondPredict, columns=['predictedPrice'])\n",
    "\n",
    "diamondsFinal = diamondsPredicted.join([diamondsTest[xCols].reset_index(drop=True),\n",
    "                                        diamondsTest['price'].reset_index(drop=True)])\n",
    "diamondsFinal[['carat', 'clarity_SI2', 'table', 'color_I', 'cut_Premium', 'price', 'predictedPrice']]"
   ]
  },
  {
   "cell_type": "code",
   "execution_count": null,
   "metadata": {},
   "outputs": [],
   "source": [
    "# Question 13\n",
    "diamondsFinal['residuals'] = diamondsFinal.price - diamondsFinal.predictedPrice\n",
    "diamondsFinal"
   ]
  },
  {
   "cell_type": "code",
   "execution_count": null,
   "metadata": {},
   "outputs": [],
   "source": [
    "# Question 14\n",
    "\n",
    "sns.kdeplot(diamondsFinal, x='residuals', fill=True)"
   ]
  },
  {
   "cell_type": "code",
   "execution_count": null,
   "metadata": {},
   "outputs": [],
   "source": [
    "# Question 14 - Alternative\n",
    "import numpy as np\n",
    "import matplotlib.pyplot as plt\n",
    "sns.displot(diamondsFinal, x='residuals', kind='kde', height=6, aspect=2)\n",
    "step = 1000\n",
    "ticks = np.arange(-10000, 9000, step)\n",
    "plt.xticks(ticks=ticks, rotation=45)\n",
    "plt.axvline(x=0, color='red', linestyle='solid', label='Low')\n",
    "plt.show()\n"
   ]
  },
  {
   "cell_type": "markdown",
   "metadata": {},
   "source": [
    "## Use Scikit learn to select the most significant independent variables"
   ]
  },
  {
   "cell_type": "code",
   "execution_count": 73,
   "metadata": {},
   "outputs": [],
   "source": [
    "from sklearn.feature_selection import SelectKBest\n",
    "from sklearn.feature_selection import mutual_info_regression"
   ]
  },
  {
   "cell_type": "code",
   "execution_count": null,
   "metadata": {},
   "outputs": [],
   "source": [
    "# There are no non-numeric columns in the diamondsDummies DataFrame that have to be dropped before procedding.\n",
    "diamondDummies.info()"
   ]
  },
  {
   "cell_type": "code",
   "execution_count": 75,
   "metadata": {},
   "outputs": [],
   "source": [
    "diadiamondsTrain, diamondsTest =train_test_split(diamondDummies,\n",
    "                                               test_size=0.30, random_state=42)"
   ]
  },
  {
   "cell_type": "code",
   "execution_count": null,
   "metadata": {},
   "outputs": [],
   "source": [
    "fs = SelectKBest(score_func=mutual_info_regression, k=23)\n",
    "fs.fit(diamondsTrain.drop(columns=['price']), diamondsTrain['price'])"
   ]
  },
  {
   "cell_type": "code",
   "execution_count": 102,
   "metadata": {},
   "outputs": [],
   "source": [
    "diamondsTrain_fs = fs.transform(diamondsTrain.drop(columns=['price']))\n",
    "diamondsTest_fs = fs.transform(diamondsTest.drop(columns=['price']))"
   ]
  },
  {
   "cell_type": "code",
   "execution_count": null,
   "metadata": {},
   "outputs": [],
   "source": [
    "model = LinearRegression()\n",
    "model.fit(diamondsTrain_fs, diamondsTrain['price'])\n",
    "model.score(diamondsTest_fs, diamondsTest['price'])"
   ]
  },
  {
   "cell_type": "code",
   "execution_count": null,
   "metadata": {},
   "outputs": [],
   "source": [
    "model.score(diamondsTrain_fs, diamondsTrain['price'])"
   ]
  },
  {
   "cell_type": "code",
   "execution_count": null,
   "metadata": {},
   "outputs": [],
   "source": [
    "# Discover the importance/significance of the independent variables\n",
    "\n",
    "df1 = pd.DataFrame(diadiamondsTrain.drop(columns=['price']).columns, columns=['feature'])\n",
    "df2 = pd.DataFrame(fs.scores_, columns=['significance'])\n",
    "significance = df1.join(df2)\n",
    "significance.sort_values('significance', ascending=False)"
   ]
  },
  {
   "cell_type": "code",
   "execution_count": null,
   "metadata": {},
   "outputs": [],
   "source": [
    "diammondModel = LinearRegression()\n",
    "xCols = ['carat', 'clarity_VS2', 'clarity_SI1', 'clarity_SI2', 'color_E',\n",
    "         'color_D', 'color_G', 'color_F', 'cut_Ideal', 'clarity_VVS2',\n",
    "         'clarity_VS1', 'clarity_VVS1', 'color_H', 'table', 'cut_Premium', 'depth']\n",
    "diammondModel.fit(diamondsTrain[xCols], diamondsTrain['price'])"
   ]
  },
  {
   "cell_type": "code",
   "execution_count": null,
   "metadata": {},
   "outputs": [],
   "source": [
    "diammondModel.score(diamondsTest[xCols], diamondsTest['price'])"
   ]
  },
  {
   "cell_type": "code",
   "execution_count": null,
   "metadata": {},
   "outputs": [],
   "source": [
    "diammondModel.score(diamondsTrain[xCols], diamondsTrain['price'])"
   ]
  },
  {
   "cell_type": "code",
   "execution_count": 115,
   "metadata": {},
   "outputs": [],
   "source": [
    "price_predicted = diammondModel.predict(diamondsTest[xCols])"
   ]
  },
  {
   "cell_type": "code",
   "execution_count": 118,
   "metadata": {},
   "outputs": [
    {
     "data": {
      "text/html": [
       "<div>\n",
       "<style scoped>\n",
       "    .dataframe tbody tr th:only-of-type {\n",
       "        vertical-align: middle;\n",
       "    }\n",
       "\n",
       "    .dataframe tbody tr th {\n",
       "        vertical-align: top;\n",
       "    }\n",
       "\n",
       "    .dataframe thead th {\n",
       "        text-align: right;\n",
       "    }\n",
       "</style>\n",
       "<table border=\"1\" class=\"dataframe\">\n",
       "  <thead>\n",
       "    <tr style=\"text-align: right;\">\n",
       "      <th></th>\n",
       "      <th>price</th>\n",
       "      <th>predictedPrice</th>\n",
       "      <th>residuals</th>\n",
       "    </tr>\n",
       "  </thead>\n",
       "  <tbody>\n",
       "    <tr>\n",
       "      <th>0</th>\n",
       "      <td>559</td>\n",
       "      <td>455.118505</td>\n",
       "      <td>103.881495</td>\n",
       "    </tr>\n",
       "    <tr>\n",
       "      <th>1</th>\n",
       "      <td>2201</td>\n",
       "      <td>3393.217838</td>\n",
       "      <td>-1192.217838</td>\n",
       "    </tr>\n",
       "    <tr>\n",
       "      <th>2</th>\n",
       "      <td>1238</td>\n",
       "      <td>2012.754908</td>\n",
       "      <td>-774.754908</td>\n",
       "    </tr>\n",
       "    <tr>\n",
       "      <th>3</th>\n",
       "      <td>1304</td>\n",
       "      <td>2189.547107</td>\n",
       "      <td>-885.547107</td>\n",
       "    </tr>\n",
       "    <tr>\n",
       "      <th>4</th>\n",
       "      <td>6901</td>\n",
       "      <td>9744.475730</td>\n",
       "      <td>-2843.475730</td>\n",
       "    </tr>\n",
       "    <tr>\n",
       "      <th>...</th>\n",
       "      <td>...</td>\n",
       "      <td>...</td>\n",
       "      <td>...</td>\n",
       "    </tr>\n",
       "    <tr>\n",
       "      <th>16177</th>\n",
       "      <td>705</td>\n",
       "      <td>559.906229</td>\n",
       "      <td>145.093771</td>\n",
       "    </tr>\n",
       "    <tr>\n",
       "      <th>16178</th>\n",
       "      <td>5278</td>\n",
       "      <td>5640.706265</td>\n",
       "      <td>-362.706265</td>\n",
       "    </tr>\n",
       "    <tr>\n",
       "      <th>16179</th>\n",
       "      <td>13157</td>\n",
       "      <td>10440.675172</td>\n",
       "      <td>2716.324828</td>\n",
       "    </tr>\n",
       "    <tr>\n",
       "      <th>16180</th>\n",
       "      <td>2960</td>\n",
       "      <td>4384.273997</td>\n",
       "      <td>-1424.273997</td>\n",
       "    </tr>\n",
       "    <tr>\n",
       "      <th>16181</th>\n",
       "      <td>1323</td>\n",
       "      <td>2131.862728</td>\n",
       "      <td>-808.862728</td>\n",
       "    </tr>\n",
       "  </tbody>\n",
       "</table>\n",
       "<p>16182 rows × 3 columns</p>\n",
       "</div>"
      ],
      "text/plain": [
       "       price  predictedPrice    residuals\n",
       "0        559      455.118505   103.881495\n",
       "1       2201     3393.217838 -1192.217838\n",
       "2       1238     2012.754908  -774.754908\n",
       "3       1304     2189.547107  -885.547107\n",
       "4       6901     9744.475730 -2843.475730\n",
       "...      ...             ...          ...\n",
       "16177    705      559.906229   145.093771\n",
       "16178   5278     5640.706265  -362.706265\n",
       "16179  13157    10440.675172  2716.324828\n",
       "16180   2960     4384.273997 -1424.273997\n",
       "16181   1323     2131.862728  -808.862728\n",
       "\n",
       "[16182 rows x 3 columns]"
      ]
     },
     "execution_count": 118,
     "metadata": {},
     "output_type": "execute_result"
    }
   ],
   "source": [
    "predicted = pd.DataFrame(price_predicted, columns=['predictedPrice'])\n",
    "final = predicted.join([diamondsTest[xCols].reset_index(drop=True),\n",
    "                        diamondsTest['price'].reset_index(drop=True)])\n",
    "final['residuals'] = final.price - final.predictedPrice\n",
    "final[['price', 'predictedPrice', 'residuals']]"
   ]
  },
  {
   "cell_type": "code",
   "execution_count": 119,
   "metadata": {},
   "outputs": [
    {
     "data": {
      "text/plain": [
       "<Axes: xlabel='residuals', ylabel='Density'>"
      ]
     },
     "execution_count": 119,
     "metadata": {},
     "output_type": "execute_result"
    },
    {
     "data": {
      "image/png": "[encoded data removed]",
      "text/plain": [
       "<Figure size 640x480 with 1 Axes>"
      ]
     },
     "metadata": {},
     "output_type": "display_data"
    }
   ],
   "source": [
    "sns.kdeplot(final, x='residuals')"
   ]
  },
  {
   "cell_type": "code",
   "execution_count": 121,
   "metadata": {},
   "outputs": [
    {
     "data": {
      "image/png": "[encoded data removed]",
      "text/plain": [
       "<Figure size 1200x600 with 1 Axes>"
      ]
     },
     "metadata": {},
     "output_type": "display_data"
    }
   ],
   "source": [
    "import numpy as np\n",
    "import matplotlib.pyplot as plt\n",
    "sns.displot(final, x='residuals', kind='kde', height=6, aspect=2)\n",
    "step = 1000\n",
    "ticks = np.arange(-10000, 9000, step)\n",
    "plt.xticks(ticks=ticks, rotation=45)\n",
    "plt.axvline(x=0, color='red', linestyle='solid', label='Low')\n",
    "plt.show()"
   ]
  },
  {
   "cell_type": "markdown",
   "metadata": {},
   "source": [
    "## Selecting the right number of independent variables"
   ]
  },
  {
   "cell_type": "code",
   "execution_count": null,
   "metadata": {},
   "outputs": [],
   "source": [
    "# Question 15\n",
    "\n",
    "import numpy as np\n",
    "model = LinearRegression()\n",
    "test = []\n",
    "train =[]\n",
    "\n",
    "for i in range(1, len(diamondsTrain.columns)):\n",
    "    fs = SelectKBest(score_func=mutual_info_regression, k=i)\n",
    "    fs.fit(diamondsTrain.drop(columns=['price']), diamondsTrain['price'])\n",
    "\n",
    "    diamondsTrain_fs = fs.transform(diamondsTrain.drop(columns=['price']))\n",
    "    diamondsTest_fs = fs.transform(diamondsTest.drop(columns=['price']))\n",
    "\n",
    "    model.fit(diamondsTrain_fs, diamondsTrain['price'])\n",
    "\n",
    "    testScore = model.score(diamondsTest_fs, diamondsTest['price'])\n",
    "    trainScore = model.score(diamondsTrain_fs, diamondsTrain['price'])\n",
    "    test.append(testScore)\n",
    "    train.append(trainScore)\n",
    "\n",
    "df = pd.DataFrame(data={'testScores': test, 'trainScores': train})\n",
    "df.reset_index(inplace=True)\n",
    "df.rename(columns={'index': 'numVariables'}, inplace=True)\n",
    "df.numVaribles = df.numVariables + 1\n",
    "ax = df.plot(x='numVariables', y=['testScores', 'trainScores'], figsize=(10, 10))\n",
    "plt.axhline(y=0.913, color='yellow', linestyle='--', label='0.913')\n",
    "plt.axvline(x=16, color='green', linestyle='--')\n",
    "plt.xticks(np.arange(0, 20, step=1))\n",
    "plt.show()"
   ]
  }
 ],
 "metadata": {
  "kernelspec": {
   "display_name": "base",
   "language": "python",
   "name": "python3"
  },
  "language_info": {
   "codemirror_mode": {
    "name": "ipython",
    "version": 3
   },
   "file_extension": ".py",
   "mimetype": "text/x-python",
   "name": "python",
   "nbconvert_exporter": "python",
   "pygments_lexer": "ipython3",
   "version": "3.12.4"
  }
 },
 "nbformat": 4,
 "nbformat_minor": 2
}
